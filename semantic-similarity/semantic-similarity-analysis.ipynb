{
  "nbformat": 4,
  "nbformat_minor": 0,
  "metadata": {
    "colab": {
      "provenance": [],
      "include_colab_link": true
    },
    "kernelspec": {
      "name": "python3",
      "display_name": "Python 3"
    },
    "language_info": {
      "name": "python"
    }
  },
  "cells": [
    {
      "cell_type": "markdown",
      "metadata": {
        "id": "view-in-github",
        "colab_type": "text"
      },
      "source": [
        "<a href=\"https://colab.research.google.com/github/raiaiaia/llm-code-review-clj/blob/main/semantic-similarity-analysis.ipynb\" target=\"_parent\"><img src=\"https://colab.research.google.com/assets/colab-badge.svg\" alt=\"Open In Colab\"/></a>"
      ]
    },
    {
      "cell_type": "code",
      "execution_count": null,
      "metadata": {
        "id": "YRiKOu8rJa_w"
      },
      "outputs": [],
      "source": [
        "import pandas as pd"
      ]
    },
    {
      "cell_type": "code",
      "source": [
        "from google.colab import drive\n",
        "drive.mount('/content/drive')"
      ],
      "metadata": {
        "colab": {
          "base_uri": "https://localhost:8080/"
        },
        "id": "g5JCprkEJ1LU",
        "outputId": "18e3519a-8fc5-4c40-d318-dff4de4770c5"
      },
      "execution_count": null,
      "outputs": [
        {
          "output_type": "stream",
          "name": "stdout",
          "text": [
            "Mounted at /content/drive\n"
          ]
        }
      ]
    },
    {
      "cell_type": "code",
      "source": [
        "nome = '/content/drive/MyDrive/rayanne-llm-code-review-clj/Dataset/output/partial/similarity_df_final.csv'\n",
        "df = pd.read_csv(nome)"
      ],
      "metadata": {
        "id": "geWNf3ZHJ1v_"
      },
      "execution_count": null,
      "outputs": []
    },
    {
      "cell_type": "code",
      "source": [
        "print(df.columns)"
      ],
      "metadata": {
        "colab": {
          "base_uri": "https://localhost:8080/"
        },
        "id": "vVljx6TTJ3qI",
        "outputId": "a08318ab-1d97-4e3b-90e0-540c31f9f6b7"
      },
      "execution_count": null,
      "outputs": [
        {
          "output_type": "stream",
          "name": "stdout",
          "text": [
            "Index(['pull_request_url', 'comment_id', 'diff_hunk', 'content',\n",
            "       'cleaned_diff_hunk', 'diff_lines', 'model_comment',\n",
            "       'cleaned_model_comment', 'cos_sim_sentence'],\n",
            "      dtype='object')\n"
          ]
        }
      ]
    },
    {
      "cell_type": "markdown",
      "source": [
        "#DataFrame com todos os valores negativos"
      ],
      "metadata": {
        "id": "yRclIbpE-c6k"
      }
    },
    {
      "cell_type": "code",
      "source": [
        "df = df.reset_index(drop=True)\n",
        "df_negative = df[df['cos_sim_sentence'] < 0]\n",
        "df_negative.to_csv('/content/drive/MyDrive/rayanne-llm-code-review-clj/Dataset/output/negative_analysis_df.csv', index=False)"
      ],
      "metadata": {
        "id": "Sf2WHlc1J54-"
      },
      "execution_count": null,
      "outputs": []
    },
    {
      "cell_type": "markdown",
      "source": [
        "#DataFrame para análise manual de similaridade"
      ],
      "metadata": {
        "id": "eiEaTCYz-oAI"
      }
    },
    {
      "cell_type": "code",
      "source": [
        "intervalos = [(-0.2, 0.0), (0.0, 0.2), (0.2, 0.4), (0.4, 0.6), (0.6, 0.8), (0.8, 1.0)]\n",
        "dataframes = {}\n",
        "\n",
        "for i, (lower, upper) in enumerate(intervalos):\n",
        "  df_intervalo = df.loc[(df['cos_sim_sentence'] > lower) & (df['cos_sim_sentence'] <= upper)]\n",
        "  dataframes[f'intervalo{i+1}'] = df_intervalo"
      ],
      "metadata": {
        "id": "Pm9Tn-oqDtFV"
      },
      "execution_count": null,
      "outputs": []
    },
    {
      "cell_type": "code",
      "source": [
        "for intervalo, df in dataframes.items():\n",
        "  print(f'DataFrame {intervalo}: ', df.shape)"
      ],
      "metadata": {
        "colab": {
          "base_uri": "https://localhost:8080/"
        },
        "id": "fS6zg-dMgB5Y",
        "outputId": "30017e99-f867-4886-e847-3570c9f223a5"
      },
      "execution_count": null,
      "outputs": [
        {
          "output_type": "stream",
          "name": "stdout",
          "text": [
            "DataFrame intervalo1:  (138, 10)\n",
            "DataFrame intervalo2:  (765, 10)\n",
            "DataFrame intervalo3:  (480, 10)\n",
            "DataFrame intervalo4:  (212, 10)\n",
            "DataFrame intervalo5:  (36, 10)\n",
            "DataFrame intervalo6:  (5, 10)\n"
          ]
        }
      ]
    },
    {
      "cell_type": "code",
      "source": [
        "#pegando 5 ocorrências de cada intervalo para fazer análise manual\n",
        "slices = [df.head(5) for df in dataframes.values()]\n",
        "df_concatenado = pd.concat(slices, ignore_index=True)\n",
        "\n",
        "print(df_concatenado.shape)"
      ],
      "metadata": {
        "colab": {
          "base_uri": "https://localhost:8080/"
        },
        "id": "6pO23laGh44X",
        "outputId": "82f08ea7-bb5c-4d2d-f158-7672ab462faf"
      },
      "execution_count": null,
      "outputs": [
        {
          "output_type": "stream",
          "name": "stdout",
          "text": [
            "(30, 10)\n"
          ]
        }
      ]
    },
    {
      "cell_type": "code",
      "source": [
        "df_concatenado.to_csv('/content/drive/MyDrive/rayanne-llm-code-review-clj/Dataset/output/partial/similarity_df_sliced.csv')"
      ],
      "metadata": {
        "id": "5-TVw2JQkY_5"
      },
      "execution_count": null,
      "outputs": []
    },
    {
      "cell_type": "markdown",
      "source": [
        "#Limpeza de DataFrame\n"
      ],
      "metadata": {
        "id": "8iQ7fjTd-4h4"
      }
    },
    {
      "cell_type": "code",
      "source": [
        "print(df.columns)"
      ],
      "metadata": {
        "colab": {
          "base_uri": "https://localhost:8080/"
        },
        "id": "g5xULpzb-9aR",
        "outputId": "4d0fc8bd-fb2b-474b-893e-f54c693c8026"
      },
      "execution_count": null,
      "outputs": [
        {
          "output_type": "stream",
          "name": "stdout",
          "text": [
            "Index(['Unnamed: 0', 'pull_request_url', 'comment_id', 'diff_hunk', 'content',\n",
            "       'cleaned_diff_hunk', 'diff_lines', 'model_comment',\n",
            "       'cleaned_model_comment', 'cos_sim_sentence'],\n",
            "      dtype='object')\n"
          ]
        }
      ]
    },
    {
      "cell_type": "code",
      "source": [
        "#remover a coluna 'cos_sim_bert' que é desnecessaria\n",
        "df = df.drop(columns=['cos_sim_bert'])\n",
        "df = df.drop(columns=['Unnamed: 0'])\n",
        "\n",
        "print(df.columns)"
      ],
      "metadata": {
        "colab": {
          "base_uri": "https://localhost:8080/"
        },
        "id": "L8nKhHaF_ia_",
        "outputId": "15336f59-c1b6-4430-d9fc-9f47a2a8678f"
      },
      "execution_count": null,
      "outputs": [
        {
          "output_type": "stream",
          "name": "stdout",
          "text": [
            "Index(['pull_request_url', 'comment_id', 'diff_hunk', 'content',\n",
            "       'cleaned_diff_hunk', 'diff_lines', 'model_comment',\n",
            "       'cleaned_model_comment', 'cos_sim_sentence'],\n",
            "      dtype='object')\n"
          ]
        }
      ]
    },
    {
      "cell_type": "code",
      "source": [
        "print(df['cos_sim_sentence'].dtype)"
      ],
      "metadata": {
        "colab": {
          "base_uri": "https://localhost:8080/"
        },
        "id": "vDozOWpMGhP3",
        "outputId": "e16a64c9-8ab4-487c-c86b-4c9b49dfa371"
      },
      "execution_count": null,
      "outputs": [
        {
          "output_type": "stream",
          "name": "stdout",
          "text": [
            "float64\n"
          ]
        }
      ]
    },
    {
      "cell_type": "code",
      "source": [
        "#ordenar o dataframe\n",
        "df = df.sort_values(by='cos_sim_sentence', ascending=False)"
      ],
      "metadata": {
        "id": "LmFGflgJEv0I"
      },
      "execution_count": null,
      "outputs": []
    },
    {
      "cell_type": "code",
      "source": [
        "print(df.columns)"
      ],
      "metadata": {
        "colab": {
          "base_uri": "https://localhost:8080/"
        },
        "id": "pRT2YeOUE_E3",
        "outputId": "200d5cda-b17b-4a69-de1a-45f23d5b303c"
      },
      "execution_count": null,
      "outputs": [
        {
          "output_type": "stream",
          "name": "stdout",
          "text": [
            "Index(['pull_request_url', 'comment_id', 'diff_hunk', 'content',\n",
            "       'cleaned_diff_hunk', 'diff_lines', 'model_comment',\n",
            "       'cleaned_model_comment', 'cos_sim_sentence'],\n",
            "      dtype='object')\n"
          ]
        }
      ]
    },
    {
      "cell_type": "code",
      "source": [
        "print(df.shape)"
      ],
      "metadata": {
        "colab": {
          "base_uri": "https://localhost:8080/"
        },
        "id": "dmRSALGYGwp4",
        "outputId": "eafa4326-c12f-463f-a326-6bfdd750e26b"
      },
      "execution_count": null,
      "outputs": [
        {
          "output_type": "stream",
          "name": "stdout",
          "text": [
            "(30, 9)\n"
          ]
        }
      ]
    },
    {
      "cell_type": "code",
      "source": [
        "df.to_csv('/content/drive/MyDrive/rayanne-llm-code-review-clj/Dataset/output/partial/similarity_df_modified.csv', index=False)"
      ],
      "metadata": {
        "id": "Nj1_ykg3DRg1"
      },
      "execution_count": null,
      "outputs": []
    }
  ]
}