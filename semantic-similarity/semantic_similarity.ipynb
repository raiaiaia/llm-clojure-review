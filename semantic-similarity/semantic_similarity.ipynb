{
  "cells": [
    {
      "cell_type": "markdown",
      "metadata": {
        "id": "view-in-github",
        "colab_type": "text"
      },
      "source": [
        "<a href=\"https://colab.research.google.com/github/raiaiaia/llm-code-review-clj/blob/main/semantic_similarity.ipynb\" target=\"_parent\"><img src=\"https://colab.research.google.com/assets/colab-badge.svg\" alt=\"Open In Colab\"/></a>"
      ]
    },
    {
      "cell_type": "code",
      "execution_count": null,
      "metadata": {
        "id": "MaPK1PsnhrWA"
      },
      "outputs": [],
      "source": [
        "from sklearn.metrics.pairwise import cosine_similarity\n",
        "from transformers import BertTokenizer, BertModel\n",
        "from tqdm import tqdm\n",
        "import pandas as pd\n",
        "import numpy as np\n",
        "import torch"
      ]
    },
    {
      "cell_type": "code",
      "execution_count": null,
      "metadata": {
        "colab": {
          "base_uri": "https://localhost:8080/"
        },
        "id": "zOIKWlewi8lc",
        "outputId": "c26ca00e-e821-4403-ade0-86825fb00d56"
      },
      "outputs": [
        {
          "output_type": "stream",
          "name": "stdout",
          "text": [
            "Mounted at /content/drive\n"
          ]
        }
      ],
      "source": [
        "from google.colab import drive\n",
        "drive.mount('/content/drive')"
      ]
    },
    {
      "cell_type": "code",
      "execution_count": null,
      "metadata": {
        "id": "xrc0bfD2zTTY"
      },
      "outputs": [],
      "source": [
        "FILE_PATH = '/content/drive/MyDrive/rayanne-llm-code-review-clj/Dataset/output/rag_model_output_final.csv'\n",
        "df = pd.read_csv(FILE_PATH)"
      ]
    },
    {
      "cell_type": "code",
      "execution_count": null,
      "metadata": {
        "colab": {
          "base_uri": "https://localhost:8080/"
        },
        "id": "Wq__UBkJ1fdM",
        "outputId": "d1345d5f-f5cc-483c-9b93-889c1c539004"
      },
      "outputs": [
        {
          "output_type": "stream",
          "name": "stdout",
          "text": [
            "Index(['pull_request_url', 'comment_id', 'diff_hunk', 'content',\n",
            "       'cleaned_diff_hunk', 'diff_lines', 'model_comment'],\n",
            "      dtype='object')\n"
          ]
        }
      ],
      "source": [
        "print(df.columns)"
      ]
    },
    {
      "cell_type": "code",
      "execution_count": null,
      "metadata": {
        "id": "Zu6PNAPPbVOn"
      },
      "outputs": [],
      "source": [
        "%%capture\n",
        "MODEL_NAME = 'bert-base-uncased'\n",
        "tokenizer = BertTokenizer.from_pretrained(MODEL_NAME)\n",
        "model = BertModel.from_pretrained(MODEL_NAME)"
      ]
    },
    {
      "cell_type": "code",
      "execution_count": null,
      "metadata": {
        "id": "XdOwl_oVtiz4"
      },
      "outputs": [],
      "source": [
        "def get_embedding_function(text: str) -> list:\n",
        "  inputs = tokenizer(\n",
        "      text,\n",
        "      return_tensors=\"pt\",\n",
        "      truncation=True,\n",
        "      padding=True\n",
        "      )\n",
        "\n",
        "  with torch.no_grad():\n",
        "    outputs = model(**inputs)\n",
        "  embeddings = outputs.last_hidden_state.mean(dim=1).squeeze().numpy()\n",
        "\n",
        "  return embeddings"
      ]
    },
    {
      "cell_type": "code",
      "execution_count": null,
      "metadata": {
        "id": "KIq6HBa1uIud"
      },
      "outputs": [],
      "source": [
        "def calc_cos_sim(row, model):\n",
        "  model_emb = get_embedding_function(row['model_comment'])\n",
        "  human_emb = get_embedding_function(row['content'])\n",
        "\n",
        "  return cosine_similarity(model_emb.reshape(1, -1), human_emb.reshape(1, -1))[0][0]"
      ]
    },
    {
      "cell_type": "code",
      "execution_count": null,
      "metadata": {
        "colab": {
          "base_uri": "https://localhost:8080/"
        },
        "id": "Pop8Fb-FbZ8U",
        "outputId": "43af931f-ad22-4147-d9fd-988bdc2d99a5"
      },
      "outputs": [
        {
          "output_type": "stream",
          "name": "stderr",
          "text": [
            "100%|██████████| 5105/5105 [22:42<00:00,  3.75it/s]\n"
          ]
        }
      ],
      "source": [
        "tqdm.pandas()\n",
        "df['cos_sim'] = df.progress_apply(calc_cos_sim, axis=1, args=(model,))\n",
        "similarity_df = df.sort_values(by='cos_sim', ascending=False)\n",
        "similarity_df.to_csv('/content/drive/MyDrive/rayanne-llm-code-review-clj/Dataset/output/similarity_rag_model.csv', index=False)"
      ]
    }
  ],
  "metadata": {
    "accelerator": "GPU",
    "colab": {
      "gpuType": "A100",
      "machine_shape": "hm",
      "provenance": [],
      "include_colab_link": true
    },
    "kernelspec": {
      "display_name": "Python 3",
      "name": "python3"
    },
    "language_info": {
      "name": "python"
    }
  },
  "nbformat": 4,
  "nbformat_minor": 0
}