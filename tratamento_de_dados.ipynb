{
  "nbformat": 4,
  "nbformat_minor": 0,
  "metadata": {
    "colab": {
      "provenance": [],
      "include_colab_link": true
    },
    "kernelspec": {
      "name": "python3",
      "display_name": "Python 3"
    },
    "language_info": {
      "name": "python"
    }
  },
  "cells": [
    {
      "cell_type": "markdown",
      "metadata": {
        "id": "view-in-github",
        "colab_type": "text"
      },
      "source": [
        "<a href=\"https://colab.research.google.com/github/raiaiaia/llm-code-review-clj/blob/main/tratamento_de_dados.ipynb\" target=\"_parent\"><img src=\"https://colab.research.google.com/assets/colab-badge.svg\" alt=\"Open In Colab\"/></a>"
      ]
    },
    {
      "cell_type": "code",
      "source": [
        "import pandas as pd"
      ],
      "metadata": {
        "id": "thIc6jteLk50"
      },
      "execution_count": null,
      "outputs": []
    },
    {
      "cell_type": "code",
      "execution_count": null,
      "metadata": {
        "colab": {
          "base_uri": "https://localhost:8080/"
        },
        "id": "d2R1xVPILJkN",
        "outputId": "38a65ce3-c362-4dda-fd18-c5112887b219"
      },
      "outputs": [
        {
          "output_type": "stream",
          "name": "stdout",
          "text": [
            "Mounted at /content/drive\n"
          ]
        }
      ],
      "source": [
        "from google.colab import drive\n",
        "drive.mount('/content/drive')"
      ]
    },
    {
      "cell_type": "markdown",
      "source": [
        "#Junção de valores de uma coluna do csv\n",
        "\n",
        "Como o processamento do modelo default foi interropido por falta de energia, foi gerado dois csv's respostas que precisavam ser unificados em um csv com o resultado completo."
      ],
      "metadata": {
        "id": "O6qrWS2RP8SU"
      }
    },
    {
      "cell_type": "code",
      "source": [
        "df_1 = pd.read_csv('/content/drive/MyDrive/rayanne-llm-code-review-clj/Dataset/output/rag_model_output_1.csv')\n",
        "df_2 = pd.read_csv('/content/drive/MyDrive/rayanne-llm-code-review-clj/Dataset/output/rag_model_output_2.csv')"
      ],
      "metadata": {
        "id": "9uG2xUTxLiY9"
      },
      "execution_count": null,
      "outputs": []
    },
    {
      "cell_type": "code",
      "source": [
        "df_1.head()"
      ],
      "metadata": {
        "colab": {
          "base_uri": "https://localhost:8080/",
          "height": 573
        },
        "id": "637uv7CQL5ni",
        "outputId": "da907185-1726-4643-baf4-0256edb059c6"
      },
      "execution_count": null,
      "outputs": [
        {
          "output_type": "execute_result",
          "data": {
            "text/plain": [
              "                                    pull_request_url  comment_id  \\\n",
              "0  https://api.github.com/repos/adamtornhill/code...    95127516   \n",
              "1  https://api.github.com/repos/anmonteiro/lumo/p...   103127359   \n",
              "2  https://api.github.com/repos/anmonteiro/lumo/p...   119037104   \n",
              "3  https://api.github.com/repos/anmonteiro/lumo/p...   120193925   \n",
              "4  https://api.github.com/repos/anmonteiro/lumo/p...   125171069   \n",
              "\n",
              "                                           diff_hunk  \\\n",
              "0  @@ -10,52 +10,106 @@ \"/some/path => G1 /anothe...   \n",
              "1  @@ -811,6 +811,19 @@   (deps/index-upstream-fo...   \n",
              "2  @@ -133,22 +135,31 @@ export function processL...   \n",
              "3  @@ -806,6 +807,57 @@                          ...   \n",
              "4  @@ -902,6 +902,35 @@           (recur (rt/read...   \n",
              "\n",
              "                                             content  \\\n",
              "0  The test cases are a bit too noisy. We need to...   \n",
              "1  I had to do this because apparently in the rea...   \n",
              "2  Wouldn't `readline.clearLine` from the api als...   \n",
              "3  these don't need to be atoms. can you switch t...   \n",
              "4  please use `(.-url url+source)`. `aget` is onl...   \n",
              "\n",
              "                                   cleaned_diff_hunk  diff_lines  \\\n",
              "0  (def ^:const multi-regexp-group-spec\\n\"^/some/...           9   \n",
              "1  ;; Introspection\\n\\n(defn ^:export get-arglist...          10   \n",
              "2  function stopReverseSearch(\\n  replSession: RE...          10   \n",
              "3  ;; Taken from planck eval implementation\\n;; T...           6   \n",
              "4  (defn get-data-readers*\\n  \"Returns the merged...           5   \n",
              "\n",
              "                                       model_comment  \n",
              "0    1. **Readability:** Consider using clearer v...  \n",
              "1    1. **Naming**: Consider renaming `get-arglis...  \n",
              "2    1. Consider using `session.isReverseSearch =...  \n",
              "3    1. Atom 'fn-index': Consider usingvolatile i...  \n",
              "4    1. Regarding the function 'get-data- readers...  "
            ],
            "text/html": [
              "\n",
              "  <div id=\"df-14aee433-8b77-482c-b0d4-612a037fcd8b\" class=\"colab-df-container\">\n",
              "    <div>\n",
              "<style scoped>\n",
              "    .dataframe tbody tr th:only-of-type {\n",
              "        vertical-align: middle;\n",
              "    }\n",
              "\n",
              "    .dataframe tbody tr th {\n",
              "        vertical-align: top;\n",
              "    }\n",
              "\n",
              "    .dataframe thead th {\n",
              "        text-align: right;\n",
              "    }\n",
              "</style>\n",
              "<table border=\"1\" class=\"dataframe\">\n",
              "  <thead>\n",
              "    <tr style=\"text-align: right;\">\n",
              "      <th></th>\n",
              "      <th>pull_request_url</th>\n",
              "      <th>comment_id</th>\n",
              "      <th>diff_hunk</th>\n",
              "      <th>content</th>\n",
              "      <th>cleaned_diff_hunk</th>\n",
              "      <th>diff_lines</th>\n",
              "      <th>model_comment</th>\n",
              "    </tr>\n",
              "  </thead>\n",
              "  <tbody>\n",
              "    <tr>\n",
              "      <th>0</th>\n",
              "      <td>https://api.github.com/repos/adamtornhill/code...</td>\n",
              "      <td>95127516</td>\n",
              "      <td>@@ -10,52 +10,106 @@ \"/some/path =&gt; G1 /anothe...</td>\n",
              "      <td>The test cases are a bit too noisy. We need to...</td>\n",
              "      <td>(def ^:const multi-regexp-group-spec\\n\"^/some/...</td>\n",
              "      <td>9</td>\n",
              "      <td>1. **Readability:** Consider using clearer v...</td>\n",
              "    </tr>\n",
              "    <tr>\n",
              "      <th>1</th>\n",
              "      <td>https://api.github.com/repos/anmonteiro/lumo/p...</td>\n",
              "      <td>103127359</td>\n",
              "      <td>@@ -811,6 +811,19 @@   (deps/index-upstream-fo...</td>\n",
              "      <td>I had to do this because apparently in the rea...</td>\n",
              "      <td>;; Introspection\\n\\n(defn ^:export get-arglist...</td>\n",
              "      <td>10</td>\n",
              "      <td>1. **Naming**: Consider renaming `get-arglis...</td>\n",
              "    </tr>\n",
              "    <tr>\n",
              "      <th>2</th>\n",
              "      <td>https://api.github.com/repos/anmonteiro/lumo/p...</td>\n",
              "      <td>119037104</td>\n",
              "      <td>@@ -133,22 +135,31 @@ export function processL...</td>\n",
              "      <td>Wouldn't `readline.clearLine` from the api als...</td>\n",
              "      <td>function stopReverseSearch(\\n  replSession: RE...</td>\n",
              "      <td>10</td>\n",
              "      <td>1. Consider using `session.isReverseSearch =...</td>\n",
              "    </tr>\n",
              "    <tr>\n",
              "      <th>3</th>\n",
              "      <td>https://api.github.com/repos/anmonteiro/lumo/p...</td>\n",
              "      <td>120193925</td>\n",
              "      <td>@@ -806,6 +807,57 @@                          ...</td>\n",
              "      <td>these don't need to be atoms. can you switch t...</td>\n",
              "      <td>;; Taken from planck eval implementation\\n;; T...</td>\n",
              "      <td>6</td>\n",
              "      <td>1. Atom 'fn-index': Consider usingvolatile i...</td>\n",
              "    </tr>\n",
              "    <tr>\n",
              "      <th>4</th>\n",
              "      <td>https://api.github.com/repos/anmonteiro/lumo/p...</td>\n",
              "      <td>125171069</td>\n",
              "      <td>@@ -902,6 +902,35 @@           (recur (rt/read...</td>\n",
              "      <td>please use `(.-url url+source)`. `aget` is onl...</td>\n",
              "      <td>(defn get-data-readers*\\n  \"Returns the merged...</td>\n",
              "      <td>5</td>\n",
              "      <td>1. Regarding the function 'get-data- readers...</td>\n",
              "    </tr>\n",
              "  </tbody>\n",
              "</table>\n",
              "</div>\n",
              "    <div class=\"colab-df-buttons\">\n",
              "\n",
              "  <div class=\"colab-df-container\">\n",
              "    <button class=\"colab-df-convert\" onclick=\"convertToInteractive('df-14aee433-8b77-482c-b0d4-612a037fcd8b')\"\n",
              "            title=\"Convert this dataframe to an interactive table.\"\n",
              "            style=\"display:none;\">\n",
              "\n",
              "  <svg xmlns=\"http://www.w3.org/2000/svg\" height=\"24px\" viewBox=\"0 -960 960 960\">\n",
              "    <path d=\"M120-120v-720h720v720H120Zm60-500h600v-160H180v160Zm220 220h160v-160H400v160Zm0 220h160v-160H400v160ZM180-400h160v-160H180v160Zm440 0h160v-160H620v160ZM180-180h160v-160H180v160Zm440 0h160v-160H620v160Z\"/>\n",
              "  </svg>\n",
              "    </button>\n",
              "\n",
              "  <style>\n",
              "    .colab-df-container {\n",
              "      display:flex;\n",
              "      gap: 12px;\n",
              "    }\n",
              "\n",
              "    .colab-df-convert {\n",
              "      background-color: #E8F0FE;\n",
              "      border: none;\n",
              "      border-radius: 50%;\n",
              "      cursor: pointer;\n",
              "      display: none;\n",
              "      fill: #1967D2;\n",
              "      height: 32px;\n",
              "      padding: 0 0 0 0;\n",
              "      width: 32px;\n",
              "    }\n",
              "\n",
              "    .colab-df-convert:hover {\n",
              "      background-color: #E2EBFA;\n",
              "      box-shadow: 0px 1px 2px rgba(60, 64, 67, 0.3), 0px 1px 3px 1px rgba(60, 64, 67, 0.15);\n",
              "      fill: #174EA6;\n",
              "    }\n",
              "\n",
              "    .colab-df-buttons div {\n",
              "      margin-bottom: 4px;\n",
              "    }\n",
              "\n",
              "    [theme=dark] .colab-df-convert {\n",
              "      background-color: #3B4455;\n",
              "      fill: #D2E3FC;\n",
              "    }\n",
              "\n",
              "    [theme=dark] .colab-df-convert:hover {\n",
              "      background-color: #434B5C;\n",
              "      box-shadow: 0px 1px 3px 1px rgba(0, 0, 0, 0.15);\n",
              "      filter: drop-shadow(0px 1px 2px rgba(0, 0, 0, 0.3));\n",
              "      fill: #FFFFFF;\n",
              "    }\n",
              "  </style>\n",
              "\n",
              "    <script>\n",
              "      const buttonEl =\n",
              "        document.querySelector('#df-14aee433-8b77-482c-b0d4-612a037fcd8b button.colab-df-convert');\n",
              "      buttonEl.style.display =\n",
              "        google.colab.kernel.accessAllowed ? 'block' : 'none';\n",
              "\n",
              "      async function convertToInteractive(key) {\n",
              "        const element = document.querySelector('#df-14aee433-8b77-482c-b0d4-612a037fcd8b');\n",
              "        const dataTable =\n",
              "          await google.colab.kernel.invokeFunction('convertToInteractive',\n",
              "                                                    [key], {});\n",
              "        if (!dataTable) return;\n",
              "\n",
              "        const docLinkHtml = 'Like what you see? Visit the ' +\n",
              "          '<a target=\"_blank\" href=https://colab.research.google.com/notebooks/data_table.ipynb>data table notebook</a>'\n",
              "          + ' to learn more about interactive tables.';\n",
              "        element.innerHTML = '';\n",
              "        dataTable['output_type'] = 'display_data';\n",
              "        await google.colab.output.renderOutput(dataTable, element);\n",
              "        const docLink = document.createElement('div');\n",
              "        docLink.innerHTML = docLinkHtml;\n",
              "        element.appendChild(docLink);\n",
              "      }\n",
              "    </script>\n",
              "  </div>\n",
              "\n",
              "\n",
              "<div id=\"df-9423e0e1-bdde-471b-a1fb-dab134cc7383\">\n",
              "  <button class=\"colab-df-quickchart\" onclick=\"quickchart('df-9423e0e1-bdde-471b-a1fb-dab134cc7383')\"\n",
              "            title=\"Suggest charts\"\n",
              "            style=\"display:none;\">\n",
              "\n",
              "<svg xmlns=\"http://www.w3.org/2000/svg\" height=\"24px\"viewBox=\"0 0 24 24\"\n",
              "     width=\"24px\">\n",
              "    <g>\n",
              "        <path d=\"M19 3H5c-1.1 0-2 .9-2 2v14c0 1.1.9 2 2 2h14c1.1 0 2-.9 2-2V5c0-1.1-.9-2-2-2zM9 17H7v-7h2v7zm4 0h-2V7h2v10zm4 0h-2v-4h2v4z\"/>\n",
              "    </g>\n",
              "</svg>\n",
              "  </button>\n",
              "\n",
              "<style>\n",
              "  .colab-df-quickchart {\n",
              "      --bg-color: #E8F0FE;\n",
              "      --fill-color: #1967D2;\n",
              "      --hover-bg-color: #E2EBFA;\n",
              "      --hover-fill-color: #174EA6;\n",
              "      --disabled-fill-color: #AAA;\n",
              "      --disabled-bg-color: #DDD;\n",
              "  }\n",
              "\n",
              "  [theme=dark] .colab-df-quickchart {\n",
              "      --bg-color: #3B4455;\n",
              "      --fill-color: #D2E3FC;\n",
              "      --hover-bg-color: #434B5C;\n",
              "      --hover-fill-color: #FFFFFF;\n",
              "      --disabled-bg-color: #3B4455;\n",
              "      --disabled-fill-color: #666;\n",
              "  }\n",
              "\n",
              "  .colab-df-quickchart {\n",
              "    background-color: var(--bg-color);\n",
              "    border: none;\n",
              "    border-radius: 50%;\n",
              "    cursor: pointer;\n",
              "    display: none;\n",
              "    fill: var(--fill-color);\n",
              "    height: 32px;\n",
              "    padding: 0;\n",
              "    width: 32px;\n",
              "  }\n",
              "\n",
              "  .colab-df-quickchart:hover {\n",
              "    background-color: var(--hover-bg-color);\n",
              "    box-shadow: 0 1px 2px rgba(60, 64, 67, 0.3), 0 1px 3px 1px rgba(60, 64, 67, 0.15);\n",
              "    fill: var(--button-hover-fill-color);\n",
              "  }\n",
              "\n",
              "  .colab-df-quickchart-complete:disabled,\n",
              "  .colab-df-quickchart-complete:disabled:hover {\n",
              "    background-color: var(--disabled-bg-color);\n",
              "    fill: var(--disabled-fill-color);\n",
              "    box-shadow: none;\n",
              "  }\n",
              "\n",
              "  .colab-df-spinner {\n",
              "    border: 2px solid var(--fill-color);\n",
              "    border-color: transparent;\n",
              "    border-bottom-color: var(--fill-color);\n",
              "    animation:\n",
              "      spin 1s steps(1) infinite;\n",
              "  }\n",
              "\n",
              "  @keyframes spin {\n",
              "    0% {\n",
              "      border-color: transparent;\n",
              "      border-bottom-color: var(--fill-color);\n",
              "      border-left-color: var(--fill-color);\n",
              "    }\n",
              "    20% {\n",
              "      border-color: transparent;\n",
              "      border-left-color: var(--fill-color);\n",
              "      border-top-color: var(--fill-color);\n",
              "    }\n",
              "    30% {\n",
              "      border-color: transparent;\n",
              "      border-left-color: var(--fill-color);\n",
              "      border-top-color: var(--fill-color);\n",
              "      border-right-color: var(--fill-color);\n",
              "    }\n",
              "    40% {\n",
              "      border-color: transparent;\n",
              "      border-right-color: var(--fill-color);\n",
              "      border-top-color: var(--fill-color);\n",
              "    }\n",
              "    60% {\n",
              "      border-color: transparent;\n",
              "      border-right-color: var(--fill-color);\n",
              "    }\n",
              "    80% {\n",
              "      border-color: transparent;\n",
              "      border-right-color: var(--fill-color);\n",
              "      border-bottom-color: var(--fill-color);\n",
              "    }\n",
              "    90% {\n",
              "      border-color: transparent;\n",
              "      border-bottom-color: var(--fill-color);\n",
              "    }\n",
              "  }\n",
              "</style>\n",
              "\n",
              "  <script>\n",
              "    async function quickchart(key) {\n",
              "      const quickchartButtonEl =\n",
              "        document.querySelector('#' + key + ' button');\n",
              "      quickchartButtonEl.disabled = true;  // To prevent multiple clicks.\n",
              "      quickchartButtonEl.classList.add('colab-df-spinner');\n",
              "      try {\n",
              "        const charts = await google.colab.kernel.invokeFunction(\n",
              "            'suggestCharts', [key], {});\n",
              "      } catch (error) {\n",
              "        console.error('Error during call to suggestCharts:', error);\n",
              "      }\n",
              "      quickchartButtonEl.classList.remove('colab-df-spinner');\n",
              "      quickchartButtonEl.classList.add('colab-df-quickchart-complete');\n",
              "    }\n",
              "    (() => {\n",
              "      let quickchartButtonEl =\n",
              "        document.querySelector('#df-9423e0e1-bdde-471b-a1fb-dab134cc7383 button');\n",
              "      quickchartButtonEl.style.display =\n",
              "        google.colab.kernel.accessAllowed ? 'block' : 'none';\n",
              "    })();\n",
              "  </script>\n",
              "</div>\n",
              "\n",
              "    </div>\n",
              "  </div>\n"
            ],
            "application/vnd.google.colaboratory.intrinsic+json": {
              "type": "dataframe",
              "variable_name": "df_1",
              "summary": "{\n  \"name\": \"df_1\",\n  \"rows\": 5105,\n  \"fields\": [\n    {\n      \"column\": \"pull_request_url\",\n      \"properties\": {\n        \"dtype\": \"string\",\n        \"num_unique_values\": 5105,\n        \"samples\": [\n          \"https://api.github.com/repos/status-im/status-mobile/pulls/7516\",\n          \"https://api.github.com/repos/metabase/metabase/pulls/2428\",\n          \"https://api.github.com/repos/metabase/metabase/pulls/1387\"\n        ],\n        \"semantic_type\": \"\",\n        \"description\": \"\"\n      }\n    },\n    {\n      \"column\": \"comment_id\",\n      \"properties\": {\n        \"dtype\": \"number\",\n        \"std\": 461425024,\n        \"min\": 36613,\n        \"max\": 1517616295,\n        \"num_unique_values\": 5105,\n        \"samples\": [\n          257281255,\n          61128564,\n          43263482\n        ],\n        \"semantic_type\": \"\",\n        \"description\": \"\"\n      }\n    },\n    {\n      \"column\": \"diff_hunk\",\n      \"properties\": {\n        \"dtype\": \"string\",\n        \"num_unique_values\": 5099,\n        \"samples\": [\n          \"@@ -865,6 +862,102 @@ describeWithToken(\\\"formatting > sandboxes\\\", () => {       // The name of this Vendor is visible in \\\"details\\\" only       cy.findByText(\\\"McClure-Lockman\\\");     });++    it.skip(\\\"should work on questions with joins, with sandboxed target table, where target fields cannot be filtered (metabase#13642)\\\", () => {+      const QUESTION_NAME = \\\"13642\\\";+      const PRODUCTS_ALIAS = \\\"Products\\\";++      withSampleDataset(({ ORDERS, ORDERS_ID, PRODUCTS, PRODUCTS_ID }) => {+        cy.log(\\\"**-- 1. Sandbox `Orders` table --**\\\");++        cy.request(\\\"POST\\\", \\\"/api/mt/gtap\\\", {+          attribute_remappings: {+            user_id: [\\\"dimension\\\", [\\\"field-id\\\", ORDERS.USER_ID]],+          },+          card_id: null,+          table_id: ORDERS_ID,+          group_id: COLLECTION_GROUP,+        });++        cy.log(\\\"**-- 2. Sandbox `Products` table --**\\\");++        cy.request(\\\"POST\\\", \\\"/api/mt/gtap\\\", {+          attribute_remappings: {+            user_cat: [\\\"dimension\\\", [\\\"field-id\\\", PRODUCTS.CATEGORY]],+          },+          card_id: null,+          table_id: PRODUCTS_ID,+          group_id: COLLECTION_GROUP,+        });++        updatePermissionsGraph({+          schema: {+            [PRODUCTS_ID]: { query: \\\"segmented\\\", read: \\\"all\\\" },+            [ORDERS_ID]: { query: \\\"segmented\\\", read: \\\"all\\\" },+          },+        });++        cy.log(\\\"**-- 3. Create question with joins --**\\\");++        cy.request(\\\"POST\\\", \\\"/api/card\\\", {+          name: QUESTION_NAME,+          dataset_query: {+            database: 1,+            query: {+              aggregation: [[\\\"count\\\"]],+              breakout: [+                [+                  \\\"joined-field\\\",+                  PRODUCTS_ALIAS,+                  [\\\"field-id\\\", PRODUCTS.CATEGORY],+                ],+              ],+              joins: [+                {+                  fields: \\\"all\\\",+                  \\\"source-table\\\": PRODUCTS_ID,+                  condition: [+                    \\\"=\\\",+                    [\\\"field-id\\\", ORDERS.PRODUCT_ID],+                    [\\\"joined-field\\\", PRODUCTS_ALIAS, [\\\"field-id\\\", PRODUCTS.ID]],+                  ],+                  alias: PRODUCTS_ALIAS,+                },+              ],+              \\\"source-table\\\": ORDERS_ID,+            },+            type: \\\"query\\\",+          },+          display: \\\"bar\\\",+          visualization_settings: {},+        });+      });++      signOut();+      signInAsSandboxedUser();++      cy.server();+      cy.route(\\\"POST\\\", \\\"/api/card/*/query\\\").as(\\\"cardQuery\\\");+      cy.route(\\\"POST\\\", \\\"/api/dataset\\\").as(\\\"dataset\\\");++      cy.visit(\\\"/collection/root\\\");+      cy.findByText(QUESTION_NAME).click();++      cy.wait(\\\"@cardQuery\\\");+      // Drill-through+      cy.get(\\\".Visualization\\\").within(() => {+        // Click on the second bar in a graph (Category: \\\"Widget\\\")+        cy.get(\\\".bar\\\")+          .eq(1)+          .click({ force: true });+      });+      cy.findByText(\\\"View these Orders\\\").click();++      cy.wait(\\\"@dataset\\\").then(xhr => {+        expect(xhr.response.body.error).not.to.exist;+      });+      cy.contains(\\\"37.65\\\");\",\n          \"@@ -75,9 +77,22 @@ export default class Dashboard extends Component {     isSharing: false,   }; +  constructor(props) {+    super(props);+    this.parametersWidgetRef = React.createRef();+    this.parametersAndCardsContainerRef = React.createRef();+  }+   // NOTE: all of these lifecycle methods should be replaced with DashboardData HoC in container   componentDidMount() {     this.loadDashboard(this.props.dashboardId);++    window.addEventListener(\\\"scroll\\\", this.updateParametersWidgetStickiness, {\",\n          \"@@ -1,283 +1,258 @@ **Covered in this guide:** -*   [Installing Metabase on AWS Elastic Beanstalk](#running-metabase-on-aws-elastic-beanstalk)-*   [Upgrading to new versions of Metabase](#deploying-new-versions-of-metabase)-*   [Retaining Metabase logs on S3](#retaining-metabase-logs)-*   [Running Metabase over HTTPS](#running-metabase-over-https)-*   [Setting the Java timezone](#setting-the-jvm-timezone)-*   [Using Papertrail for logging](#using-papertrail-for-logging-on-aws)-*   [Protecting invalid hostname access](#protecting-against-invalid-hostname-access)-+- [Installing Metabase on AWS Elastic Beanstalk](#running-metabase-on-aws-elastic-beanstalk)+- [Upgrading to new versions of Metabase](#deploying-new-versions-of-metabase)+- [Retaining Metabase logs on S3](#retaining-metabase-logs)+- [Running Metabase over HTTPS](#running-metabase-over-https)+- [Setting the Java timezone](#setting-the-jvm-timezone)+- [Using Papertrail for logging](#using-papertrail-for-logging-on-aws)+- [Protecting invalid hostname access](#protecting-against-invalid-hostname-access)  # Running Metabase on AWS Elastic Beanstalk -The Metabase team runs a number of production installations on AWS using Elastic Beanstalk and currently recommend it as the preferred choice for production deployments.  Below is a detailed guide to installing Metabase on Elastic Beanstalk.-+The Metabase team runs a number of production installations on AWS using Elastic Beanstalk and currently recommend it as the preferred choice for production deployments. Below is a detailed guide to installing Metabase on Elastic Beanstalk.  ### Quick Launch -Metabase provides an Elastic Beanstalk pre-configured launch url to help new installations getting started.  If you are starting fresh we recommend you follow this link to begin creating the Elastic Beanstalk deployment with a few choices pre-filled.+Metabase provides a pre-configured Elastic Beanstalk launch URL to help you get started with new installations. If you are starting fresh we recommend you follow this link in a new tab to begin creating the Elastic Beanstalk deployment with a few choices pre-filled. Then just follow the step-by-step instructions below to complete your installation.  [Launch Metabase on Elastic Beanstalk](https://downloads.metabase.com/{{ site.latest_version }}/launch-aws-eb.html) -The rest of this guide will follow each phase of the Elastic Beanstalk setup step-by-step.---### New Application---You should now see a screen that looks like+After clicking the launch URL, you should see a screen that looks like this:  ![Elastic Beanstalk First Screen](images/EBFirstScreen.png) -NOTE: If this screenshot does not match what you see in the Elastic Beanstalk console, it is likely that you are on an old version of the Elastic Beanstalk UI. At the time of writing this documentation, both versions of the UI are being reported in the wild. You can view our older documentation [here](running-metabase-on-elastic-beanstalk-old.md)+_NOTE: If this screenshot doesn't match what you see in the Elastic Beanstalk console, it's likely that you are on an old version of the Elastic Beanstalk UI. At the time of writing this documentation, both versions of the UI are being reported in the wild. If you need to, you can [view our older AWS EB documentation](running-metabase-on-elastic-beanstalk-old.md)._ -While most of the fields are correctly prefilled by following the launch url above, \\\"Sample Application\\\" will be incorrectly selected. To run Metabase successfully, you'll need to click the radio button for \\\"Upload your code\\\".+### Application information -Elastic Beanstalk is organized into Applications and Environments, so to get started we must create a new Application. You can customize the application name here.+Elastic Beanstalk is organized into Applications and Environments, so to get started we need to create a new application. You can customize the application name here.  ![Elastic Beanstalk ApplicationInformation](images/EBApplicationInformation.png) -### Environment Information+### Environment information -Here you are given a chance to pick a name and url that you want to use for running Metabase instance.-Feel free to get creative, just remember that the URL for your Metabase instance must be unique across all AWS Elastic Beanstalk deployments,-so you'll have to pick something nobody else is already using.+Here's where you can pick the environment name and the domain URL that you want to use for your Metabase instance. The environment name is simply the label you're assigning to this instance of Metabase. -We often recommend something like `mycompanyname-metabase`+As for the domain URL, Feel free to get creative \\u2014 just remember that the URL for your Metabase instance must be unique across all AWS Elastic Beanstalk deployments, so you'll have to pick something that nobody else is already using. We often recommend something like `mycompanyname-metabase`. If you don't care about the URL you can simply leave it to whatever Amazon inputs by default. Just be aware that this can't be changed later.  ![Elastic Beanstalk Environment Information](images/EBNewEnvironmentInformation.png) -And of course if you don't care about the URL you can simply leave it to whatever Amazon inputs by default.--### New Environment+### Tier -Elastic Beanstalk provides two choices for environments within an Application, but you should leave the setting to `Web Server` on that landing page.+If you see a `Tier` setting under `Base configuration`, leave it set to `Web Server`. Elastic Beanstalk provides two choices for environments within an application, but `Web Server` is what we want.  ![ebnewenv](images/EBWebTier.png) - ### Base Configuration -For the base configuration settings we want to make the following selections:+![Elastic Beanstalk Base Configuration](images/EBBaseConfig.png) - * Platform: `Preconfigured Platform > Docker`- * Application Code: `Upload Your Code`+While most of the fields here will be correctly pre-filled by following the launch URL above, you'll just need to do two things: -![Elastic Beanstalk Base Configuration](images/EBBaseConfig.png)+- First, make sure `Platform` is set to `Preconfigured platform`, with the dropdown set to `Docker`.+- Next, change the `Application code` setting to `Upload your code`, then click the `Upload` button. You'll see a modal like this: -This will run our Metabase application using  [Docker](https://www.docker.com) under the hood.+![Elastic Beanstalk Base Configuration](images/EBUploadYourCode.png) -If you reached this screen from the Metabase start page at [metabase.com/start/aws/](https://metabase.com/start/aws/) the application code settings will have already been set and you don't need to do anything. This will use the official Metabase Docker image which is [published on Dockerhub](https://hub.docker.com/r/metabase/metabase/).+The modal should be pre-populated with the correct settings if you used the quick launch URL at the top of these instructions. All you need to do is push the `Upload` button in this modal. -When your environment type settings look like the above then go ahead and click `Review and launch`.+These settings will run the Metabase application using [Docker](https://www.docker.com) under the hood, using the official Metabase Docker image which is [published on Dockerhub](https://hub.docker.com/r/metabase/metabase/). +You can now go ahead and click `Review and launch`. -##### Enabling enhanced health checks+#### Enabling enhanced health checks  You will need to enable enhanced health checks for your Beanstalk Monitoring. -Click on the `modify` link under the Monitoring section as below.+Click on the `Modify` link under the Monitoring section as seen here:+ ![Elastic Beanstalk Monitoring](images/EBMonitoringSelect.png)  Then make sure enhanced health checks are enabled. This is a free option, unless you later add specific metrics to CloudWatch.  ![Elastic Beanstalk Monitoring Settings](images/EBMonitoringSettings.png) -##### Configuring RDS for Metabase+#### Configuring RDS for Metabase -To run Metabase in a cloud environment of any kind we highly recommend using an independent database server with high availability such as Amazon RDS.  So for standard deployments we will choose to create an RDS instance with our Elastic Beanstalk application.+To run Metabase in a cloud environment of any kind we highly recommend using an independent database server with high availability such as Amazon RDS. So for standard deployments we will choose to create an RDS instance with our Elastic Beanstalk application. +_NOTE: It's possible to skip this step if you wish. However, this will force Metabase to use a local H2 database file on your application server, and there will be no way to backup and maintain that database. **When your instance is restarted for any reason you'll lose all your Metabase data**. If you are just doing a quick trial of Metabase that may be okay, but otherwise we recommend against it._\"\n        ],\n        \"semantic_type\": \"\",\n        \"description\": \"\"\n      }\n    },\n    {\n      \"column\": \"content\",\n      \"properties\": {\n        \"dtype\": \"string\",\n        \"num_unique_values\": 5060,\n        \"samples\": [\n          \"For some reason the link text isn't turning blue on hover when I try this locally, but the icon is.![Screenshot 2024-02-09 at 9 22 37\\u202fAM](https://github.com/metabase/metabase/assets/5248953/54d8a3e0-e3b1-4b8b-9fa0-56ddb0991c61)\",\n          \"Can you write TODO(jeluard) so it's clear who to ask in future in case of problems? Same with TODO below\",\n          \"Hi @msuess, nice implementation \\ud83d\\udc4d1. `(or (nil? @loaded?) @loaded?)` Isn't this will be always true?2. Why we are using `nil`, why not default to `false`?\"\n        ],\n        \"semantic_type\": \"\",\n        \"description\": \"\"\n      }\n    },\n    {\n      \"column\": \"cleaned_diff_hunk\",\n      \"properties\": {\n        \"dtype\": \"string\",\n        \"num_unique_values\": 5098,\n        \"samples\": [\n          \"\\n    it.skip(\\\"should work on questions with joins, with sandboxed target table, where target fields cannot be filtered (metabase#13642)\\\", () => {\\n      const QUESTION_NAME = \\\"13642\\\";\\n      const PRODUCTS_ALIAS = \\\"Products\\\";\\n\\n      withSampleDataset(({ ORDERS, ORDERS_ID, PRODUCTS, PRODUCTS_ID }) => {\\n        cy.log(\\\"**-- 1. Sandbox `Orders` table --**\\\");\\n\\n        cy.request(\\\"POST\\\", \\\"/api/mt/gtap\\\", {\\n          attribute_remappings: {\\n            user_id: [\\\"dimension\\\", [\\\"field-id\\\", ORDERS.USER_ID]],\\n          },\\n          card_id: null,\\n          table_id: ORDERS_ID,\\n          group_id: COLLECTION_GROUP,\\n        });\\n\\n        cy.log(\\\"**-- 2. Sandbox `Products` table --**\\\");\\n\\n        cy.request(\\\"POST\\\", \\\"/api/mt/gtap\\\", {\\n          attribute_remappings: {\\n            user_cat: [\\\"dimension\\\", [\\\"field-id\\\", PRODUCTS.CATEGORY]],\\n          },\\n          card_id: null,\\n          table_id: PRODUCTS_ID,\\n          group_id: COLLECTION_GROUP,\\n        });\\n\\n        updatePermissionsGraph({\\n          schema: {\\n            [PRODUCTS_ID]: { query: \\\"segmented\\\", read: \\\"all\\\" },\\n            [ORDERS_ID]: { query: \\\"segmented\\\", read: \\\"all\\\" },\\n          },\\n        });\\n\\n        cy.log(\\\"**-- 3. Create question with joins --**\\\");\\n\\n        cy.request(\\\"POST\\\", \\\"/api/card\\\", {\\n          name: QUESTION_NAME,\\n          dataset_query: {\\n            database: 1,\\n            query: {\\n              aggregation: [[\\\"count\\\"]],\\n              breakout: [\\n                [\\n                  \\\"joined-field\\\",\\n                  PRODUCTS_ALIAS,\\n                  [\\\"field-id\\\", PRODUCTS.CATEGORY],\\n                ],\\n              ],\\n              joins: [\\n                {\\n                  fields: \\\"all\\\",\\n                  \\\"source-table\\\": PRODUCTS_ID,\\n                  condition: [\\n                    \\\"=\\\",\\n                    [\\\"field-id\\\", ORDERS.PRODUCT_ID],\\n                    [\\\"joined-field\\\", PRODUCTS_ALIAS, [\\\"field-id\\\", PRODUCTS.ID]],\\n                  ],\\n                  alias: PRODUCTS_ALIAS,\\n                },\\n              ],\\n              \\\"source-table\\\": ORDERS_ID,\\n            },\\n            type: \\\"query\\\",\\n          },\\n          display: \\\"bar\\\",\\n          visualization_settings: {},\\n        });\\n      });\\n\\n      signOut();\\n      signInAsSandboxedUser();\\n\\n      cy.server();\\n      cy.route(\\\"POST\\\", \\\"/api/card/*/query\\\").as(\\\"cardQuery\\\");\\n      cy.route(\\\"POST\\\", \\\"/api/dataset\\\").as(\\\"dataset\\\");\\n\\n      cy.visit(\\\"/collection/root\\\");\\n      cy.findByText(QUESTION_NAME).click();\\n\\n      cy.wait(\\\"@cardQuery\\\");\\n      // Drill-through\\n      cy.get(\\\".Visualization\\\").within(() => {\\n        // Click on the second bar in a graph (Category: \\\"Widget\\\")\\n        cy.get(\\\".bar\\\")\\n          .eq(1)\\n          .click({ force: true });\\n      });\\n      cy.findByText(\\\"View these Orders\\\").click();\\n\\n      cy.wait(\\\"@dataset\\\").then(xhr => {\\n        expect(xhr.response.body.error).not.to.exist;\\n      });\\n      cy.contains(\\\"37.65\\\");\",\n          \"  constructor(props) {\\n    super(props);\\n    this.parametersWidgetRef = React.createRef();\\n    this.parametersAndCardsContainerRef = React.createRef();\\n  }\\n\\n\\n    window.addEventListener(\\\"scroll\\\", this.updateParametersWidgetStickiness, {\",\n          \"- [Installing Metabase on AWS Elastic Beanstalk](#running-metabase-on-aws-elastic-beanstalk)\\n- [Upgrading to new versions of Metabase](#deploying-new-versions-of-metabase)\\n- [Retaining Metabase logs on S3](#retaining-metabase-logs)\\n- [Running Metabase over HTTPS](#running-metabase-over-https)\\n- [Setting the Java timezone](#setting-the-jvm-timezone)\\n- [Using Papertrail for logging](#using-papertrail-for-logging-on-aws)\\n- [Protecting invalid hostname access](#protecting-against-invalid-hostname-access)\\nThe Metabase team runs a number of production installations on AWS using Elastic Beanstalk and currently recommend it as the preferred choice for production deployments. Below is a detailed guide to installing Metabase on Elastic Beanstalk.\\nMetabase provides a pre-configured Elastic Beanstalk launch URL to help you get started with new installations. If you are starting fresh we recommend you follow this link in a new tab to begin creating the Elastic Beanstalk deployment with a few choices pre-filled. Then just follow the step-by-step instructions below to complete your installation.\\nAfter clicking the launch URL, you should see a screen that looks like this:\\n_NOTE: If this screenshot doesn't match what you see in the Elastic Beanstalk console, it's likely that you are on an old version of the Elastic Beanstalk UI. At the time of writing this documentation, both versions of the UI are being reported in the wild. If you need to, you can [view our older AWS EB documentation](running-metabase-on-elastic-beanstalk-old.md)._\\n### Application information\\nElastic Beanstalk is organized into Applications and Environments, so to get started we need to create a new application. You can customize the application name here.\\n### Environment information\\nHere's where you can pick the environment name and the domain URL that you want to use for your Metabase instance. The environment name is simply the label you're assigning to this instance of Metabase.\\nAs for the domain URL, Feel free to get creative \\u2014 just remember that the URL for your Metabase instance must be unique across all AWS Elastic Beanstalk deployments, so you'll have to pick something that nobody else is already using. We often recommend something like `mycompanyname-metabase`. If you don't care about the URL you can simply leave it to whatever Amazon inputs by default. Just be aware that this can't be changed later.\\n### Tier\\nIf you see a `Tier` setting under `Base configuration`, leave it set to `Web Server`. Elastic Beanstalk provides two choices for environments within an application, but `Web Server` is what we want.\\n![Elastic Beanstalk Base Configuration](images/EBBaseConfig.png)\\nWhile most of the fields here will be correctly pre-filled by following the launch URL above, you'll just need to do two things:\\n- First, make sure `Platform` is set to `Preconfigured platform`, with the dropdown set to `Docker`.\\n- Next, change the `Application code` setting to `Upload your code`, then click the `Upload` button. You'll see a modal like this:\\n![Elastic Beanstalk Base Configuration](images/EBUploadYourCode.png)\\nThe modal should be pre-populated with the correct settings if you used the quick launch URL at the top of these instructions. All you need to do is push the `Upload` button in this modal.\\nThese settings will run the Metabase application using [Docker](https://www.docker.com) under the hood, using the official Metabase Docker image which is [published on Dockerhub](https://hub.docker.com/r/metabase/metabase/).\\nYou can now go ahead and click `Review and launch`.\\n#### Enabling enhanced health checks\\nClick on the `Modify` link under the Monitoring section as seen here:\\n\\n#### Configuring RDS for Metabase\\nTo run Metabase in a cloud environment of any kind we highly recommend using an independent database server with high availability such as Amazon RDS. So for standard deployments we will choose to create an RDS instance with our Elastic Beanstalk application.\\n_NOTE: It's possible to skip this step if you wish. However, this will force Metabase to use a local H2 database file on your application server, and there will be no way to backup and maintain that database. **When your instance is restarted for any reason you'll lose all your Metabase data**. If you are just doing a quick trial of Metabase that may be okay, but otherwise we recommend against it._\"\n        ],\n        \"semantic_type\": \"\",\n        \"description\": \"\"\n      }\n    },\n    {\n      \"column\": \"diff_lines\",\n      \"properties\": {\n        \"dtype\": \"number\",\n        \"std\": 42,\n        \"min\": 5,\n        \"max\": 1481,\n        \"num_unique_values\": 200,\n        \"samples\": [\n          101,\n          42,\n          27\n        ],\n        \"semantic_type\": \"\",\n        \"description\": \"\"\n      }\n    },\n    {\n      \"column\": \"model_comment\",\n      \"properties\": {\n        \"dtype\": \"string\",\n        \"num_unique_values\": 2647,\n        \"samples\": [\n          \"  1. Tooltip Component: Consider wrapping the span tag inside the Tooltip component instead of placing it outside. It will make the relationship between the Span and Tooltip clearer and more explicit. For example:\\n     ```clojure\\n     <Tooltip tooltip={setting.placeholder} isEnabled={setting.is_env_setting} maxWidth={300}>\\n         <span></span>\\n     </Tooltip>\\n     ```\\n  2. Setting up Components: Make sure you understand what each imported module does before using them directly within components. In the given case, ensure 'OtherComponent', 'renderWithProvders', 'connect' etc., have been properly defined and initialized before usage. Also consider breaking down large functions into smaller ones if necessary.\\n\\n  3. Passing Props Correctly: When passing refs through multiple levels of React components, be aware that moving the reference assignment can lead to unexpected behavior. Ensure proper documentation exists regarding how these references should behave when passed around different parts of the application.\\n\\n  4. Translation Functions: Use consistent translation function calls throughout the project. Using both t and __ might cause confusion among developers working together on the same codebase. Choose either one consistently across all files.\\n\\n  5. Styling Suggestions: While there isn\\u2019t any specific problem identified related to CSS framework like Emotion mentioned above, but considering its popularity and ease of use, authors may want to explore integrating such libraries where appropriate for better consistency and reusability. However, keep in mind that additional configuration steps would need to take place first.\\n\\nRegarding potential issues:\\nThe provided code snippets do not contain enough context to identify actual bugs. Instead, they mostly focus on improving overall structure, organization, and best practices adherence. To find real bug fixes, thorough testing along with debugging techniques must be employed while maintaining the existing functionality alongside improvements suggested earlier.\",\n          \"  1. Consider renaming functions `add-table-db-id-clause` and `add-card-db-id-clause` to follow a consistent naming convention. For example, both could be named `filter_tables_by_db`. This would improve readability and consistency within your code base.\\n\\n```clojure\\n(s/defn ^:private filter-tables-by-db\\n  ...\\n)\\n\\n(s/defn ^:private filter-cards-by-db\\n  ...\\n)\\n```\\n\\n2. Inspecting the provided code snippets reveals no apparent issues regarding potential bugs but there might still exist some edge cases that need testing. Make sure these helper methods work correctly when dealing with empty queries or invalid input types like non-integer ID values. Add unit tests covering such scenarios.\\n\\n3. To enhance maintainability consider moving common logic from both helpers towards the top level where possible. Extract shared functionality out of them and move it outside before defining individual implementations. It may lead to cleaner and easier to understand code overall.\\n\\n4. Regarding the performance aspect, merging conditions using hiccup syntax seems reasonable considering its simplicity and conciseness. However, depending upon the size and complexity of the final SQL statement generated through multiple calls to merge clauses, it might impact execution time significantly. An alternative approach involves constructing separate maps containing filters and then combining those at last while forming the complete query object. Evaluate whether this tradeoff between brevity and runtime cost fits well within your use case.\\n\\nHere\\u2019s how you can refactor the existing implementation:\\n\\nFirst create two private vars holding default map structures:\\n\\n```clojure\\n;; Define constants for mapping keys & symbols\\n(:db_id :databases :int)\\n((symbolify [\\\"DBID\\\"] :key :sym) (\\\"DATABASES\\\" :collection :keys) (\\\"INT\\\" :collision-names))\\n\\n(def once-for-each-helper\\n  {\\\"once\\\": fn [[f coll]][(reduce f identity coll)])}\\n\\n(def constant-maps\\n  ({:constant-table #{:db_id}}\\n   {:constant-card #{:db_id}}))\\n\\n(defn get-const-mapping [m symbol]\\n  (get m sym))\\n```\\n\\nNow update\",\n          \"  1. **Readability:**\\n   * Consider adding whitespace for better visual separation between blocks of code within functions or methods. For instance, separate method declarations by a blank line.\\n   * Use consistent naming conventions throughout the project. For example, use camelCase for variable names and PascalCase for constructor names.\\n   * Provide clear comments describing what each block does instead of just stating that certain lines generate specific reviews. This will make it easier for others to understand the context behind those parts of the codebase.\\n\\n2. **Efficiency**:\\n   * Instead of checking whether 'item' has a property named 'name', consider destructuring directly into variables like `{ name, /* other properties */}`. It makes reading and writing cleaner while also being more efficient since no extra lookup is required during parsing.\\n\\n3. **Maintainability** & Readability:\\n   * Make sure all imports at the beginning of files are documented properly using comments explaining their purpose. Also, group related imports together.\\n   * Break down long statements into multiple shorter ones when they become difficult to follow.\\n   * When defining complex objects such as classes or interfaces, break them up over several lines for improved comprehension.\\n\\n4. **Potential Bugs - Default Dimension Method**:\\n   * Check why there seems to be missing curly braces after the first statement inside the if condition. If these were meant to define another scope level, then include them. Otherwise, merge both conditional branches under one set of curly brackets.\\n\\n```clojure\\ndefaultDimension(){\\n  let dimension;\\n  if (this.field && this.field().isDate?) {\\n    dimension = new DatetimeFieldDimension(this);\\n  }else{\\n    // handle non-date fields\\n  }\\n  return dimension;\\n}\\n```\\n\\n5. **Bug Fixing - OnClick Handler**:\\nInstead of calling two different handlers separately, try combining them into a single arrow function expression which calls both functions sequentially. That way, we avoid potential race conditions where either handler might get executed out of order due to event propagation.\\n\\n6. **Code Organization \\u2013 Import Statements**:\\nConsider organizing imported modules according to how frequently used across various components / services rather than alphabetical ordering. Additionally, ensure only necessary dependencies are included to minimize\"\n        ],\n        \"semantic_type\": \"\",\n        \"description\": \"\"\n      }\n    }\n  ]\n}"
            }
          },
          "metadata": {},
          "execution_count": 4
        }
      ]
    },
    {
      "cell_type": "code",
      "source": [
        "df_2.head()"
      ],
      "metadata": {
        "colab": {
          "base_uri": "https://localhost:8080/",
          "height": 573
        },
        "id": "89cCreSAL8cL",
        "outputId": "ff1f605c-b4cc-4d79-f2de-cf83c8817670"
      },
      "execution_count": null,
      "outputs": [
        {
          "output_type": "execute_result",
          "data": {
            "text/plain": [
              "                                    pull_request_url  comment_id  \\\n",
              "0  https://api.github.com/repos/adamtornhill/code...    95127516   \n",
              "1  https://api.github.com/repos/anmonteiro/lumo/p...   103127359   \n",
              "2  https://api.github.com/repos/anmonteiro/lumo/p...   119037104   \n",
              "3  https://api.github.com/repos/anmonteiro/lumo/p...   120193925   \n",
              "4  https://api.github.com/repos/anmonteiro/lumo/p...   125171069   \n",
              "\n",
              "                                           diff_hunk  \\\n",
              "0  @@ -10,52 +10,106 @@ \"/some/path => G1 /anothe...   \n",
              "1  @@ -811,6 +811,19 @@   (deps/index-upstream-fo...   \n",
              "2  @@ -133,22 +135,31 @@ export function processL...   \n",
              "3  @@ -806,6 +807,57 @@                          ...   \n",
              "4  @@ -902,6 +902,35 @@           (recur (rt/read...   \n",
              "\n",
              "                                             content  \\\n",
              "0  The test cases are a bit too noisy. We need to...   \n",
              "1  I had to do this because apparently in the rea...   \n",
              "2  Wouldn't `readline.clearLine` from the api als...   \n",
              "3  these don't need to be atoms. can you switch t...   \n",
              "4  please use `(.-url url+source)`. `aget` is onl...   \n",
              "\n",
              "                                   cleaned_diff_hunk  diff_lines model_comment  \n",
              "0  (def ^:const multi-regexp-group-spec\\n\"^/some/...           9           NaN  \n",
              "1  ;; Introspection\\n\\n(defn ^:export get-arglist...          10           NaN  \n",
              "2  function stopReverseSearch(\\n  replSession: RE...          10           NaN  \n",
              "3  ;; Taken from planck eval implementation\\n;; T...           6           NaN  \n",
              "4  (defn get-data-readers*\\n  \"Returns the merged...           5           NaN  "
            ],
            "text/html": [
              "\n",
              "  <div id=\"df-3a29ce29-68a1-491d-bc4e-a3156c263c25\" class=\"colab-df-container\">\n",
              "    <div>\n",
              "<style scoped>\n",
              "    .dataframe tbody tr th:only-of-type {\n",
              "        vertical-align: middle;\n",
              "    }\n",
              "\n",
              "    .dataframe tbody tr th {\n",
              "        vertical-align: top;\n",
              "    }\n",
              "\n",
              "    .dataframe thead th {\n",
              "        text-align: right;\n",
              "    }\n",
              "</style>\n",
              "<table border=\"1\" class=\"dataframe\">\n",
              "  <thead>\n",
              "    <tr style=\"text-align: right;\">\n",
              "      <th></th>\n",
              "      <th>pull_request_url</th>\n",
              "      <th>comment_id</th>\n",
              "      <th>diff_hunk</th>\n",
              "      <th>content</th>\n",
              "      <th>cleaned_diff_hunk</th>\n",
              "      <th>diff_lines</th>\n",
              "      <th>model_comment</th>\n",
              "    </tr>\n",
              "  </thead>\n",
              "  <tbody>\n",
              "    <tr>\n",
              "      <th>0</th>\n",
              "      <td>https://api.github.com/repos/adamtornhill/code...</td>\n",
              "      <td>95127516</td>\n",
              "      <td>@@ -10,52 +10,106 @@ \"/some/path =&gt; G1 /anothe...</td>\n",
              "      <td>The test cases are a bit too noisy. We need to...</td>\n",
              "      <td>(def ^:const multi-regexp-group-spec\\n\"^/some/...</td>\n",
              "      <td>9</td>\n",
              "      <td>NaN</td>\n",
              "    </tr>\n",
              "    <tr>\n",
              "      <th>1</th>\n",
              "      <td>https://api.github.com/repos/anmonteiro/lumo/p...</td>\n",
              "      <td>103127359</td>\n",
              "      <td>@@ -811,6 +811,19 @@   (deps/index-upstream-fo...</td>\n",
              "      <td>I had to do this because apparently in the rea...</td>\n",
              "      <td>;; Introspection\\n\\n(defn ^:export get-arglist...</td>\n",
              "      <td>10</td>\n",
              "      <td>NaN</td>\n",
              "    </tr>\n",
              "    <tr>\n",
              "      <th>2</th>\n",
              "      <td>https://api.github.com/repos/anmonteiro/lumo/p...</td>\n",
              "      <td>119037104</td>\n",
              "      <td>@@ -133,22 +135,31 @@ export function processL...</td>\n",
              "      <td>Wouldn't `readline.clearLine` from the api als...</td>\n",
              "      <td>function stopReverseSearch(\\n  replSession: RE...</td>\n",
              "      <td>10</td>\n",
              "      <td>NaN</td>\n",
              "    </tr>\n",
              "    <tr>\n",
              "      <th>3</th>\n",
              "      <td>https://api.github.com/repos/anmonteiro/lumo/p...</td>\n",
              "      <td>120193925</td>\n",
              "      <td>@@ -806,6 +807,57 @@                          ...</td>\n",
              "      <td>these don't need to be atoms. can you switch t...</td>\n",
              "      <td>;; Taken from planck eval implementation\\n;; T...</td>\n",
              "      <td>6</td>\n",
              "      <td>NaN</td>\n",
              "    </tr>\n",
              "    <tr>\n",
              "      <th>4</th>\n",
              "      <td>https://api.github.com/repos/anmonteiro/lumo/p...</td>\n",
              "      <td>125171069</td>\n",
              "      <td>@@ -902,6 +902,35 @@           (recur (rt/read...</td>\n",
              "      <td>please use `(.-url url+source)`. `aget` is onl...</td>\n",
              "      <td>(defn get-data-readers*\\n  \"Returns the merged...</td>\n",
              "      <td>5</td>\n",
              "      <td>NaN</td>\n",
              "    </tr>\n",
              "  </tbody>\n",
              "</table>\n",
              "</div>\n",
              "    <div class=\"colab-df-buttons\">\n",
              "\n",
              "  <div class=\"colab-df-container\">\n",
              "    <button class=\"colab-df-convert\" onclick=\"convertToInteractive('df-3a29ce29-68a1-491d-bc4e-a3156c263c25')\"\n",
              "            title=\"Convert this dataframe to an interactive table.\"\n",
              "            style=\"display:none;\">\n",
              "\n",
              "  <svg xmlns=\"http://www.w3.org/2000/svg\" height=\"24px\" viewBox=\"0 -960 960 960\">\n",
              "    <path d=\"M120-120v-720h720v720H120Zm60-500h600v-160H180v160Zm220 220h160v-160H400v160Zm0 220h160v-160H400v160ZM180-400h160v-160H180v160Zm440 0h160v-160H620v160ZM180-180h160v-160H180v160Zm440 0h160v-160H620v160Z\"/>\n",
              "  </svg>\n",
              "    </button>\n",
              "\n",
              "  <style>\n",
              "    .colab-df-container {\n",
              "      display:flex;\n",
              "      gap: 12px;\n",
              "    }\n",
              "\n",
              "    .colab-df-convert {\n",
              "      background-color: #E8F0FE;\n",
              "      border: none;\n",
              "      border-radius: 50%;\n",
              "      cursor: pointer;\n",
              "      display: none;\n",
              "      fill: #1967D2;\n",
              "      height: 32px;\n",
              "      padding: 0 0 0 0;\n",
              "      width: 32px;\n",
              "    }\n",
              "\n",
              "    .colab-df-convert:hover {\n",
              "      background-color: #E2EBFA;\n",
              "      box-shadow: 0px 1px 2px rgba(60, 64, 67, 0.3), 0px 1px 3px 1px rgba(60, 64, 67, 0.15);\n",
              "      fill: #174EA6;\n",
              "    }\n",
              "\n",
              "    .colab-df-buttons div {\n",
              "      margin-bottom: 4px;\n",
              "    }\n",
              "\n",
              "    [theme=dark] .colab-df-convert {\n",
              "      background-color: #3B4455;\n",
              "      fill: #D2E3FC;\n",
              "    }\n",
              "\n",
              "    [theme=dark] .colab-df-convert:hover {\n",
              "      background-color: #434B5C;\n",
              "      box-shadow: 0px 1px 3px 1px rgba(0, 0, 0, 0.15);\n",
              "      filter: drop-shadow(0px 1px 2px rgba(0, 0, 0, 0.3));\n",
              "      fill: #FFFFFF;\n",
              "    }\n",
              "  </style>\n",
              "\n",
              "    <script>\n",
              "      const buttonEl =\n",
              "        document.querySelector('#df-3a29ce29-68a1-491d-bc4e-a3156c263c25 button.colab-df-convert');\n",
              "      buttonEl.style.display =\n",
              "        google.colab.kernel.accessAllowed ? 'block' : 'none';\n",
              "\n",
              "      async function convertToInteractive(key) {\n",
              "        const element = document.querySelector('#df-3a29ce29-68a1-491d-bc4e-a3156c263c25');\n",
              "        const dataTable =\n",
              "          await google.colab.kernel.invokeFunction('convertToInteractive',\n",
              "                                                    [key], {});\n",
              "        if (!dataTable) return;\n",
              "\n",
              "        const docLinkHtml = 'Like what you see? Visit the ' +\n",
              "          '<a target=\"_blank\" href=https://colab.research.google.com/notebooks/data_table.ipynb>data table notebook</a>'\n",
              "          + ' to learn more about interactive tables.';\n",
              "        element.innerHTML = '';\n",
              "        dataTable['output_type'] = 'display_data';\n",
              "        await google.colab.output.renderOutput(dataTable, element);\n",
              "        const docLink = document.createElement('div');\n",
              "        docLink.innerHTML = docLinkHtml;\n",
              "        element.appendChild(docLink);\n",
              "      }\n",
              "    </script>\n",
              "  </div>\n",
              "\n",
              "\n",
              "<div id=\"df-c3b6043c-76f7-4b2e-b769-643cb6c0fe3e\">\n",
              "  <button class=\"colab-df-quickchart\" onclick=\"quickchart('df-c3b6043c-76f7-4b2e-b769-643cb6c0fe3e')\"\n",
              "            title=\"Suggest charts\"\n",
              "            style=\"display:none;\">\n",
              "\n",
              "<svg xmlns=\"http://www.w3.org/2000/svg\" height=\"24px\"viewBox=\"0 0 24 24\"\n",
              "     width=\"24px\">\n",
              "    <g>\n",
              "        <path d=\"M19 3H5c-1.1 0-2 .9-2 2v14c0 1.1.9 2 2 2h14c1.1 0 2-.9 2-2V5c0-1.1-.9-2-2-2zM9 17H7v-7h2v7zm4 0h-2V7h2v10zm4 0h-2v-4h2v4z\"/>\n",
              "    </g>\n",
              "</svg>\n",
              "  </button>\n",
              "\n",
              "<style>\n",
              "  .colab-df-quickchart {\n",
              "      --bg-color: #E8F0FE;\n",
              "      --fill-color: #1967D2;\n",
              "      --hover-bg-color: #E2EBFA;\n",
              "      --hover-fill-color: #174EA6;\n",
              "      --disabled-fill-color: #AAA;\n",
              "      --disabled-bg-color: #DDD;\n",
              "  }\n",
              "\n",
              "  [theme=dark] .colab-df-quickchart {\n",
              "      --bg-color: #3B4455;\n",
              "      --fill-color: #D2E3FC;\n",
              "      --hover-bg-color: #434B5C;\n",
              "      --hover-fill-color: #FFFFFF;\n",
              "      --disabled-bg-color: #3B4455;\n",
              "      --disabled-fill-color: #666;\n",
              "  }\n",
              "\n",
              "  .colab-df-quickchart {\n",
              "    background-color: var(--bg-color);\n",
              "    border: none;\n",
              "    border-radius: 50%;\n",
              "    cursor: pointer;\n",
              "    display: none;\n",
              "    fill: var(--fill-color);\n",
              "    height: 32px;\n",
              "    padding: 0;\n",
              "    width: 32px;\n",
              "  }\n",
              "\n",
              "  .colab-df-quickchart:hover {\n",
              "    background-color: var(--hover-bg-color);\n",
              "    box-shadow: 0 1px 2px rgba(60, 64, 67, 0.3), 0 1px 3px 1px rgba(60, 64, 67, 0.15);\n",
              "    fill: var(--button-hover-fill-color);\n",
              "  }\n",
              "\n",
              "  .colab-df-quickchart-complete:disabled,\n",
              "  .colab-df-quickchart-complete:disabled:hover {\n",
              "    background-color: var(--disabled-bg-color);\n",
              "    fill: var(--disabled-fill-color);\n",
              "    box-shadow: none;\n",
              "  }\n",
              "\n",
              "  .colab-df-spinner {\n",
              "    border: 2px solid var(--fill-color);\n",
              "    border-color: transparent;\n",
              "    border-bottom-color: var(--fill-color);\n",
              "    animation:\n",
              "      spin 1s steps(1) infinite;\n",
              "  }\n",
              "\n",
              "  @keyframes spin {\n",
              "    0% {\n",
              "      border-color: transparent;\n",
              "      border-bottom-color: var(--fill-color);\n",
              "      border-left-color: var(--fill-color);\n",
              "    }\n",
              "    20% {\n",
              "      border-color: transparent;\n",
              "      border-left-color: var(--fill-color);\n",
              "      border-top-color: var(--fill-color);\n",
              "    }\n",
              "    30% {\n",
              "      border-color: transparent;\n",
              "      border-left-color: var(--fill-color);\n",
              "      border-top-color: var(--fill-color);\n",
              "      border-right-color: var(--fill-color);\n",
              "    }\n",
              "    40% {\n",
              "      border-color: transparent;\n",
              "      border-right-color: var(--fill-color);\n",
              "      border-top-color: var(--fill-color);\n",
              "    }\n",
              "    60% {\n",
              "      border-color: transparent;\n",
              "      border-right-color: var(--fill-color);\n",
              "    }\n",
              "    80% {\n",
              "      border-color: transparent;\n",
              "      border-right-color: var(--fill-color);\n",
              "      border-bottom-color: var(--fill-color);\n",
              "    }\n",
              "    90% {\n",
              "      border-color: transparent;\n",
              "      border-bottom-color: var(--fill-color);\n",
              "    }\n",
              "  }\n",
              "</style>\n",
              "\n",
              "  <script>\n",
              "    async function quickchart(key) {\n",
              "      const quickchartButtonEl =\n",
              "        document.querySelector('#' + key + ' button');\n",
              "      quickchartButtonEl.disabled = true;  // To prevent multiple clicks.\n",
              "      quickchartButtonEl.classList.add('colab-df-spinner');\n",
              "      try {\n",
              "        const charts = await google.colab.kernel.invokeFunction(\n",
              "            'suggestCharts', [key], {});\n",
              "      } catch (error) {\n",
              "        console.error('Error during call to suggestCharts:', error);\n",
              "      }\n",
              "      quickchartButtonEl.classList.remove('colab-df-spinner');\n",
              "      quickchartButtonEl.classList.add('colab-df-quickchart-complete');\n",
              "    }\n",
              "    (() => {\n",
              "      let quickchartButtonEl =\n",
              "        document.querySelector('#df-c3b6043c-76f7-4b2e-b769-643cb6c0fe3e button');\n",
              "      quickchartButtonEl.style.display =\n",
              "        google.colab.kernel.accessAllowed ? 'block' : 'none';\n",
              "    })();\n",
              "  </script>\n",
              "</div>\n",
              "\n",
              "    </div>\n",
              "  </div>\n"
            ],
            "application/vnd.google.colaboratory.intrinsic+json": {
              "type": "dataframe",
              "variable_name": "df_2",
              "summary": "{\n  \"name\": \"df_2\",\n  \"rows\": 5105,\n  \"fields\": [\n    {\n      \"column\": \"pull_request_url\",\n      \"properties\": {\n        \"dtype\": \"string\",\n        \"num_unique_values\": 5105,\n        \"samples\": [\n          \"https://api.github.com/repos/status-im/status-mobile/pulls/7516\",\n          \"https://api.github.com/repos/metabase/metabase/pulls/2428\",\n          \"https://api.github.com/repos/metabase/metabase/pulls/1387\"\n        ],\n        \"semantic_type\": \"\",\n        \"description\": \"\"\n      }\n    },\n    {\n      \"column\": \"comment_id\",\n      \"properties\": {\n        \"dtype\": \"number\",\n        \"std\": 461425024,\n        \"min\": 36613,\n        \"max\": 1517616295,\n        \"num_unique_values\": 5105,\n        \"samples\": [\n          257281255,\n          61128564,\n          43263482\n        ],\n        \"semantic_type\": \"\",\n        \"description\": \"\"\n      }\n    },\n    {\n      \"column\": \"diff_hunk\",\n      \"properties\": {\n        \"dtype\": \"string\",\n        \"num_unique_values\": 5099,\n        \"samples\": [\n          \"@@ -865,6 +862,102 @@ describeWithToken(\\\"formatting > sandboxes\\\", () => {       // The name of this Vendor is visible in \\\"details\\\" only       cy.findByText(\\\"McClure-Lockman\\\");     });++    it.skip(\\\"should work on questions with joins, with sandboxed target table, where target fields cannot be filtered (metabase#13642)\\\", () => {+      const QUESTION_NAME = \\\"13642\\\";+      const PRODUCTS_ALIAS = \\\"Products\\\";++      withSampleDataset(({ ORDERS, ORDERS_ID, PRODUCTS, PRODUCTS_ID }) => {+        cy.log(\\\"**-- 1. Sandbox `Orders` table --**\\\");++        cy.request(\\\"POST\\\", \\\"/api/mt/gtap\\\", {+          attribute_remappings: {+            user_id: [\\\"dimension\\\", [\\\"field-id\\\", ORDERS.USER_ID]],+          },+          card_id: null,+          table_id: ORDERS_ID,+          group_id: COLLECTION_GROUP,+        });++        cy.log(\\\"**-- 2. Sandbox `Products` table --**\\\");++        cy.request(\\\"POST\\\", \\\"/api/mt/gtap\\\", {+          attribute_remappings: {+            user_cat: [\\\"dimension\\\", [\\\"field-id\\\", PRODUCTS.CATEGORY]],+          },+          card_id: null,+          table_id: PRODUCTS_ID,+          group_id: COLLECTION_GROUP,+        });++        updatePermissionsGraph({+          schema: {+            [PRODUCTS_ID]: { query: \\\"segmented\\\", read: \\\"all\\\" },+            [ORDERS_ID]: { query: \\\"segmented\\\", read: \\\"all\\\" },+          },+        });++        cy.log(\\\"**-- 3. Create question with joins --**\\\");++        cy.request(\\\"POST\\\", \\\"/api/card\\\", {+          name: QUESTION_NAME,+          dataset_query: {+            database: 1,+            query: {+              aggregation: [[\\\"count\\\"]],+              breakout: [+                [+                  \\\"joined-field\\\",+                  PRODUCTS_ALIAS,+                  [\\\"field-id\\\", PRODUCTS.CATEGORY],+                ],+              ],+              joins: [+                {+                  fields: \\\"all\\\",+                  \\\"source-table\\\": PRODUCTS_ID,+                  condition: [+                    \\\"=\\\",+                    [\\\"field-id\\\", ORDERS.PRODUCT_ID],+                    [\\\"joined-field\\\", PRODUCTS_ALIAS, [\\\"field-id\\\", PRODUCTS.ID]],+                  ],+                  alias: PRODUCTS_ALIAS,+                },+              ],+              \\\"source-table\\\": ORDERS_ID,+            },+            type: \\\"query\\\",+          },+          display: \\\"bar\\\",+          visualization_settings: {},+        });+      });++      signOut();+      signInAsSandboxedUser();++      cy.server();+      cy.route(\\\"POST\\\", \\\"/api/card/*/query\\\").as(\\\"cardQuery\\\");+      cy.route(\\\"POST\\\", \\\"/api/dataset\\\").as(\\\"dataset\\\");++      cy.visit(\\\"/collection/root\\\");+      cy.findByText(QUESTION_NAME).click();++      cy.wait(\\\"@cardQuery\\\");+      // Drill-through+      cy.get(\\\".Visualization\\\").within(() => {+        // Click on the second bar in a graph (Category: \\\"Widget\\\")+        cy.get(\\\".bar\\\")+          .eq(1)+          .click({ force: true });+      });+      cy.findByText(\\\"View these Orders\\\").click();++      cy.wait(\\\"@dataset\\\").then(xhr => {+        expect(xhr.response.body.error).not.to.exist;+      });+      cy.contains(\\\"37.65\\\");\",\n          \"@@ -75,9 +77,22 @@ export default class Dashboard extends Component {     isSharing: false,   }; +  constructor(props) {+    super(props);+    this.parametersWidgetRef = React.createRef();+    this.parametersAndCardsContainerRef = React.createRef();+  }+   // NOTE: all of these lifecycle methods should be replaced with DashboardData HoC in container   componentDidMount() {     this.loadDashboard(this.props.dashboardId);++    window.addEventListener(\\\"scroll\\\", this.updateParametersWidgetStickiness, {\",\n          \"@@ -1,283 +1,258 @@ **Covered in this guide:** -*   [Installing Metabase on AWS Elastic Beanstalk](#running-metabase-on-aws-elastic-beanstalk)-*   [Upgrading to new versions of Metabase](#deploying-new-versions-of-metabase)-*   [Retaining Metabase logs on S3](#retaining-metabase-logs)-*   [Running Metabase over HTTPS](#running-metabase-over-https)-*   [Setting the Java timezone](#setting-the-jvm-timezone)-*   [Using Papertrail for logging](#using-papertrail-for-logging-on-aws)-*   [Protecting invalid hostname access](#protecting-against-invalid-hostname-access)-+- [Installing Metabase on AWS Elastic Beanstalk](#running-metabase-on-aws-elastic-beanstalk)+- [Upgrading to new versions of Metabase](#deploying-new-versions-of-metabase)+- [Retaining Metabase logs on S3](#retaining-metabase-logs)+- [Running Metabase over HTTPS](#running-metabase-over-https)+- [Setting the Java timezone](#setting-the-jvm-timezone)+- [Using Papertrail for logging](#using-papertrail-for-logging-on-aws)+- [Protecting invalid hostname access](#protecting-against-invalid-hostname-access)  # Running Metabase on AWS Elastic Beanstalk -The Metabase team runs a number of production installations on AWS using Elastic Beanstalk and currently recommend it as the preferred choice for production deployments.  Below is a detailed guide to installing Metabase on Elastic Beanstalk.-+The Metabase team runs a number of production installations on AWS using Elastic Beanstalk and currently recommend it as the preferred choice for production deployments. Below is a detailed guide to installing Metabase on Elastic Beanstalk.  ### Quick Launch -Metabase provides an Elastic Beanstalk pre-configured launch url to help new installations getting started.  If you are starting fresh we recommend you follow this link to begin creating the Elastic Beanstalk deployment with a few choices pre-filled.+Metabase provides a pre-configured Elastic Beanstalk launch URL to help you get started with new installations. If you are starting fresh we recommend you follow this link in a new tab to begin creating the Elastic Beanstalk deployment with a few choices pre-filled. Then just follow the step-by-step instructions below to complete your installation.  [Launch Metabase on Elastic Beanstalk](https://downloads.metabase.com/{{ site.latest_version }}/launch-aws-eb.html) -The rest of this guide will follow each phase of the Elastic Beanstalk setup step-by-step.---### New Application---You should now see a screen that looks like+After clicking the launch URL, you should see a screen that looks like this:  ![Elastic Beanstalk First Screen](images/EBFirstScreen.png) -NOTE: If this screenshot does not match what you see in the Elastic Beanstalk console, it is likely that you are on an old version of the Elastic Beanstalk UI. At the time of writing this documentation, both versions of the UI are being reported in the wild. You can view our older documentation [here](running-metabase-on-elastic-beanstalk-old.md)+_NOTE: If this screenshot doesn't match what you see in the Elastic Beanstalk console, it's likely that you are on an old version of the Elastic Beanstalk UI. At the time of writing this documentation, both versions of the UI are being reported in the wild. If you need to, you can [view our older AWS EB documentation](running-metabase-on-elastic-beanstalk-old.md)._ -While most of the fields are correctly prefilled by following the launch url above, \\\"Sample Application\\\" will be incorrectly selected. To run Metabase successfully, you'll need to click the radio button for \\\"Upload your code\\\".+### Application information -Elastic Beanstalk is organized into Applications and Environments, so to get started we must create a new Application. You can customize the application name here.+Elastic Beanstalk is organized into Applications and Environments, so to get started we need to create a new application. You can customize the application name here.  ![Elastic Beanstalk ApplicationInformation](images/EBApplicationInformation.png) -### Environment Information+### Environment information -Here you are given a chance to pick a name and url that you want to use for running Metabase instance.-Feel free to get creative, just remember that the URL for your Metabase instance must be unique across all AWS Elastic Beanstalk deployments,-so you'll have to pick something nobody else is already using.+Here's where you can pick the environment name and the domain URL that you want to use for your Metabase instance. The environment name is simply the label you're assigning to this instance of Metabase. -We often recommend something like `mycompanyname-metabase`+As for the domain URL, Feel free to get creative \\u2014 just remember that the URL for your Metabase instance must be unique across all AWS Elastic Beanstalk deployments, so you'll have to pick something that nobody else is already using. We often recommend something like `mycompanyname-metabase`. If you don't care about the URL you can simply leave it to whatever Amazon inputs by default. Just be aware that this can't be changed later.  ![Elastic Beanstalk Environment Information](images/EBNewEnvironmentInformation.png) -And of course if you don't care about the URL you can simply leave it to whatever Amazon inputs by default.--### New Environment+### Tier -Elastic Beanstalk provides two choices for environments within an Application, but you should leave the setting to `Web Server` on that landing page.+If you see a `Tier` setting under `Base configuration`, leave it set to `Web Server`. Elastic Beanstalk provides two choices for environments within an application, but `Web Server` is what we want.  ![ebnewenv](images/EBWebTier.png) - ### Base Configuration -For the base configuration settings we want to make the following selections:+![Elastic Beanstalk Base Configuration](images/EBBaseConfig.png) - * Platform: `Preconfigured Platform > Docker`- * Application Code: `Upload Your Code`+While most of the fields here will be correctly pre-filled by following the launch URL above, you'll just need to do two things: -![Elastic Beanstalk Base Configuration](images/EBBaseConfig.png)+- First, make sure `Platform` is set to `Preconfigured platform`, with the dropdown set to `Docker`.+- Next, change the `Application code` setting to `Upload your code`, then click the `Upload` button. You'll see a modal like this: -This will run our Metabase application using  [Docker](https://www.docker.com) under the hood.+![Elastic Beanstalk Base Configuration](images/EBUploadYourCode.png) -If you reached this screen from the Metabase start page at [metabase.com/start/aws/](https://metabase.com/start/aws/) the application code settings will have already been set and you don't need to do anything. This will use the official Metabase Docker image which is [published on Dockerhub](https://hub.docker.com/r/metabase/metabase/).+The modal should be pre-populated with the correct settings if you used the quick launch URL at the top of these instructions. All you need to do is push the `Upload` button in this modal. -When your environment type settings look like the above then go ahead and click `Review and launch`.+These settings will run the Metabase application using [Docker](https://www.docker.com) under the hood, using the official Metabase Docker image which is [published on Dockerhub](https://hub.docker.com/r/metabase/metabase/). +You can now go ahead and click `Review and launch`. -##### Enabling enhanced health checks+#### Enabling enhanced health checks  You will need to enable enhanced health checks for your Beanstalk Monitoring. -Click on the `modify` link under the Monitoring section as below.+Click on the `Modify` link under the Monitoring section as seen here:+ ![Elastic Beanstalk Monitoring](images/EBMonitoringSelect.png)  Then make sure enhanced health checks are enabled. This is a free option, unless you later add specific metrics to CloudWatch.  ![Elastic Beanstalk Monitoring Settings](images/EBMonitoringSettings.png) -##### Configuring RDS for Metabase+#### Configuring RDS for Metabase -To run Metabase in a cloud environment of any kind we highly recommend using an independent database server with high availability such as Amazon RDS.  So for standard deployments we will choose to create an RDS instance with our Elastic Beanstalk application.+To run Metabase in a cloud environment of any kind we highly recommend using an independent database server with high availability such as Amazon RDS. So for standard deployments we will choose to create an RDS instance with our Elastic Beanstalk application. +_NOTE: It's possible to skip this step if you wish. However, this will force Metabase to use a local H2 database file on your application server, and there will be no way to backup and maintain that database. **When your instance is restarted for any reason you'll lose all your Metabase data**. If you are just doing a quick trial of Metabase that may be okay, but otherwise we recommend against it._\"\n        ],\n        \"semantic_type\": \"\",\n        \"description\": \"\"\n      }\n    },\n    {\n      \"column\": \"content\",\n      \"properties\": {\n        \"dtype\": \"string\",\n        \"num_unique_values\": 5060,\n        \"samples\": [\n          \"For some reason the link text isn't turning blue on hover when I try this locally, but the icon is.![Screenshot 2024-02-09 at 9 22 37\\u202fAM](https://github.com/metabase/metabase/assets/5248953/54d8a3e0-e3b1-4b8b-9fa0-56ddb0991c61)\",\n          \"Can you write TODO(jeluard) so it's clear who to ask in future in case of problems? Same with TODO below\",\n          \"Hi @msuess, nice implementation \\ud83d\\udc4d1. `(or (nil? @loaded?) @loaded?)` Isn't this will be always true?2. Why we are using `nil`, why not default to `false`?\"\n        ],\n        \"semantic_type\": \"\",\n        \"description\": \"\"\n      }\n    },\n    {\n      \"column\": \"cleaned_diff_hunk\",\n      \"properties\": {\n        \"dtype\": \"string\",\n        \"num_unique_values\": 5098,\n        \"samples\": [\n          \"\\n    it.skip(\\\"should work on questions with joins, with sandboxed target table, where target fields cannot be filtered (metabase#13642)\\\", () => {\\n      const QUESTION_NAME = \\\"13642\\\";\\n      const PRODUCTS_ALIAS = \\\"Products\\\";\\n\\n      withSampleDataset(({ ORDERS, ORDERS_ID, PRODUCTS, PRODUCTS_ID }) => {\\n        cy.log(\\\"**-- 1. Sandbox `Orders` table --**\\\");\\n\\n        cy.request(\\\"POST\\\", \\\"/api/mt/gtap\\\", {\\n          attribute_remappings: {\\n            user_id: [\\\"dimension\\\", [\\\"field-id\\\", ORDERS.USER_ID]],\\n          },\\n          card_id: null,\\n          table_id: ORDERS_ID,\\n          group_id: COLLECTION_GROUP,\\n        });\\n\\n        cy.log(\\\"**-- 2. Sandbox `Products` table --**\\\");\\n\\n        cy.request(\\\"POST\\\", \\\"/api/mt/gtap\\\", {\\n          attribute_remappings: {\\n            user_cat: [\\\"dimension\\\", [\\\"field-id\\\", PRODUCTS.CATEGORY]],\\n          },\\n          card_id: null,\\n          table_id: PRODUCTS_ID,\\n          group_id: COLLECTION_GROUP,\\n        });\\n\\n        updatePermissionsGraph({\\n          schema: {\\n            [PRODUCTS_ID]: { query: \\\"segmented\\\", read: \\\"all\\\" },\\n            [ORDERS_ID]: { query: \\\"segmented\\\", read: \\\"all\\\" },\\n          },\\n        });\\n\\n        cy.log(\\\"**-- 3. Create question with joins --**\\\");\\n\\n        cy.request(\\\"POST\\\", \\\"/api/card\\\", {\\n          name: QUESTION_NAME,\\n          dataset_query: {\\n            database: 1,\\n            query: {\\n              aggregation: [[\\\"count\\\"]],\\n              breakout: [\\n                [\\n                  \\\"joined-field\\\",\\n                  PRODUCTS_ALIAS,\\n                  [\\\"field-id\\\", PRODUCTS.CATEGORY],\\n                ],\\n              ],\\n              joins: [\\n                {\\n                  fields: \\\"all\\\",\\n                  \\\"source-table\\\": PRODUCTS_ID,\\n                  condition: [\\n                    \\\"=\\\",\\n                    [\\\"field-id\\\", ORDERS.PRODUCT_ID],\\n                    [\\\"joined-field\\\", PRODUCTS_ALIAS, [\\\"field-id\\\", PRODUCTS.ID]],\\n                  ],\\n                  alias: PRODUCTS_ALIAS,\\n                },\\n              ],\\n              \\\"source-table\\\": ORDERS_ID,\\n            },\\n            type: \\\"query\\\",\\n          },\\n          display: \\\"bar\\\",\\n          visualization_settings: {},\\n        });\\n      });\\n\\n      signOut();\\n      signInAsSandboxedUser();\\n\\n      cy.server();\\n      cy.route(\\\"POST\\\", \\\"/api/card/*/query\\\").as(\\\"cardQuery\\\");\\n      cy.route(\\\"POST\\\", \\\"/api/dataset\\\").as(\\\"dataset\\\");\\n\\n      cy.visit(\\\"/collection/root\\\");\\n      cy.findByText(QUESTION_NAME).click();\\n\\n      cy.wait(\\\"@cardQuery\\\");\\n      // Drill-through\\n      cy.get(\\\".Visualization\\\").within(() => {\\n        // Click on the second bar in a graph (Category: \\\"Widget\\\")\\n        cy.get(\\\".bar\\\")\\n          .eq(1)\\n          .click({ force: true });\\n      });\\n      cy.findByText(\\\"View these Orders\\\").click();\\n\\n      cy.wait(\\\"@dataset\\\").then(xhr => {\\n        expect(xhr.response.body.error).not.to.exist;\\n      });\\n      cy.contains(\\\"37.65\\\");\",\n          \"  constructor(props) {\\n    super(props);\\n    this.parametersWidgetRef = React.createRef();\\n    this.parametersAndCardsContainerRef = React.createRef();\\n  }\\n\\n\\n    window.addEventListener(\\\"scroll\\\", this.updateParametersWidgetStickiness, {\",\n          \"- [Installing Metabase on AWS Elastic Beanstalk](#running-metabase-on-aws-elastic-beanstalk)\\n- [Upgrading to new versions of Metabase](#deploying-new-versions-of-metabase)\\n- [Retaining Metabase logs on S3](#retaining-metabase-logs)\\n- [Running Metabase over HTTPS](#running-metabase-over-https)\\n- [Setting the Java timezone](#setting-the-jvm-timezone)\\n- [Using Papertrail for logging](#using-papertrail-for-logging-on-aws)\\n- [Protecting invalid hostname access](#protecting-against-invalid-hostname-access)\\nThe Metabase team runs a number of production installations on AWS using Elastic Beanstalk and currently recommend it as the preferred choice for production deployments. Below is a detailed guide to installing Metabase on Elastic Beanstalk.\\nMetabase provides a pre-configured Elastic Beanstalk launch URL to help you get started with new installations. If you are starting fresh we recommend you follow this link in a new tab to begin creating the Elastic Beanstalk deployment with a few choices pre-filled. Then just follow the step-by-step instructions below to complete your installation.\\nAfter clicking the launch URL, you should see a screen that looks like this:\\n_NOTE: If this screenshot doesn't match what you see in the Elastic Beanstalk console, it's likely that you are on an old version of the Elastic Beanstalk UI. At the time of writing this documentation, both versions of the UI are being reported in the wild. If you need to, you can [view our older AWS EB documentation](running-metabase-on-elastic-beanstalk-old.md)._\\n### Application information\\nElastic Beanstalk is organized into Applications and Environments, so to get started we need to create a new application. You can customize the application name here.\\n### Environment information\\nHere's where you can pick the environment name and the domain URL that you want to use for your Metabase instance. The environment name is simply the label you're assigning to this instance of Metabase.\\nAs for the domain URL, Feel free to get creative \\u2014 just remember that the URL for your Metabase instance must be unique across all AWS Elastic Beanstalk deployments, so you'll have to pick something that nobody else is already using. We often recommend something like `mycompanyname-metabase`. If you don't care about the URL you can simply leave it to whatever Amazon inputs by default. Just be aware that this can't be changed later.\\n### Tier\\nIf you see a `Tier` setting under `Base configuration`, leave it set to `Web Server`. Elastic Beanstalk provides two choices for environments within an application, but `Web Server` is what we want.\\n![Elastic Beanstalk Base Configuration](images/EBBaseConfig.png)\\nWhile most of the fields here will be correctly pre-filled by following the launch URL above, you'll just need to do two things:\\n- First, make sure `Platform` is set to `Preconfigured platform`, with the dropdown set to `Docker`.\\n- Next, change the `Application code` setting to `Upload your code`, then click the `Upload` button. You'll see a modal like this:\\n![Elastic Beanstalk Base Configuration](images/EBUploadYourCode.png)\\nThe modal should be pre-populated with the correct settings if you used the quick launch URL at the top of these instructions. All you need to do is push the `Upload` button in this modal.\\nThese settings will run the Metabase application using [Docker](https://www.docker.com) under the hood, using the official Metabase Docker image which is [published on Dockerhub](https://hub.docker.com/r/metabase/metabase/).\\nYou can now go ahead and click `Review and launch`.\\n#### Enabling enhanced health checks\\nClick on the `Modify` link under the Monitoring section as seen here:\\n\\n#### Configuring RDS for Metabase\\nTo run Metabase in a cloud environment of any kind we highly recommend using an independent database server with high availability such as Amazon RDS. So for standard deployments we will choose to create an RDS instance with our Elastic Beanstalk application.\\n_NOTE: It's possible to skip this step if you wish. However, this will force Metabase to use a local H2 database file on your application server, and there will be no way to backup and maintain that database. **When your instance is restarted for any reason you'll lose all your Metabase data**. If you are just doing a quick trial of Metabase that may be okay, but otherwise we recommend against it._\"\n        ],\n        \"semantic_type\": \"\",\n        \"description\": \"\"\n      }\n    },\n    {\n      \"column\": \"diff_lines\",\n      \"properties\": {\n        \"dtype\": \"number\",\n        \"std\": 42,\n        \"min\": 5,\n        \"max\": 1481,\n        \"num_unique_values\": 200,\n        \"samples\": [\n          101,\n          42,\n          27\n        ],\n        \"semantic_type\": \"\",\n        \"description\": \"\"\n      }\n    },\n    {\n      \"column\": \"model_comment\",\n      \"properties\": {\n        \"dtype\": \"category\",\n        \"num_unique_values\": 2454,\n        \"samples\": [\n          \"  1. **Naming:** Consider renaming the namespace prefix from `quo.components.avatars. wallet-user-avatar.view` to something more descriptive like `quo.components.AvatarView`. This will make the intent of the module clearer without having to open it up.\\n\\n2. **Importing styles**: Instead of importing all at once using `(:require ...)`, consider breaking down each imported library into separate imports using `(:import [] [\\\"moduleName\\\"])`. It makes reading the dependencies easier when looking through the source files.\\n\\n3. **Properties structure** \\u2013 Inconsistent naming between keys within the map `properties`; I suggest changing them so they follow a consistent pattern such as starting every property name with a lower case letter followed by camelCase or PascalCase depending upon what fits best with Quil\\u2019s coding conventions. Also, instead of defining multiple maps containing similar data, create one single map where sizes correspond to their respective font-sizes and other related information.\\n\\n4. **Smallest possible & Biggest Possible variables**: These seem unnecessary since the same values can easily be obtained directly from the Properties Map itself. Remove these two definitions.\\n\\n5. **Function signature documentation**: Improve function signatures comments describing input parameters and expected return types. Provide brief descriptions about how the functions work internally.\\n\\n6. **Consistency in variable names**: Use consistent variable names throughout the project. For example, change \\u2018opts\\u2019,\\u2018options\\u2019 etc., to have uniform capitalisation across the entire application.\\n\\n7. **Missing dependency**: Add uppercase support for generating initals while creating Avatars. Update the description accordingly.\\n\\n8. **Color handling**: Be explicit regarding which part refers to \\u201ccustomization\\\\_color\\u201d vs just plain old \\u201ccolor\\u201d. Make sure both terms mean exactly the same thing everywhere in the codebase.\\n\\n9. **Style container**: Break out common styling rules into reusable helper functions rather than repeating identical logic over and over again inside different views.\\n\\n10. **Icon placement**: Find ways to position icons consistently according to design specifications. One approach would involve wrapping the IconComponent inside another View and setting its marginRight appropriately.\\n\\n11. **Review existing packages**: Ensure that any third party libraries being utilized already offer solutions addressing certain functionalities before writing new ones. If available,\",\n          \"  1. Consider refactoring `string- expr?` function by using `seq?`, `coll?`, and `vector?` instead of `sequential?`. This will improve its readability and reduce redundancy since these functions already check if their argument is sequential or collection type respectively.\\n\\n``` clojure\\n(defn string-expr? [x]\\n  (or (string? x)\\n      (or (vec? x) ;; checks vector or list\\n          (map? x) ;; checks map or set\\n          (sequence? x) ;; covers other collections like streams etc.\\n          (some (comp identity (partial = 'str))))\\n         ))\\n```\\n\\n2. In the case of `::type`, consider moving it onto one single line for better conciseness and consistency within the project style guide. Also, use named vectors when defining multi-line data structures.\\n\\n```clojure\\n(s/def ::type {:conformer (fn [x](or (property-types x) x)),\\n             :validators #{[:crux.topology/module]} })\\n```\\n\\n3. For importing Java classes, follow consistent naming conventions such as CamelCase or snake_case throughout the entire application. Use aliases only where necessary.\\n\\n4. Regarding error handling in `->safe-parser`, while catching Throwables can be useful sometimes, it's generally recommended that specific exceptions should be handled separately rather than relying solely upon Try blocks. Instead, handle each exception individually which makes debugging easier.\\n\\n5. When writing variable names, stick to lowerCamelCase convention for local variables and UPPERCASE for constants. Rename `diffVectors` to `diffVectors`.\\n\\n6. Naming conventions matter! Stick to either kebab-case (-based), camelCase (_camelCase_) or PascalCase (CapitalizeFirstLetterOfEveryWord). Be consistent across all files.\\n\\n7. Add comments explaining complex logic or edge cases wherever needed. It helps others understand what the code does more easily.\\n\\n8. Ensure proper indentation and spacing between symbols and parentheses making sure they align correctly. Proper formatting improves overall readability significantly.\\n\\n9. Make sure test coverage exists before implementing any changes. Testing ensures\",\n          \"  1. Consider renaming the file names for consistency across the project. For instance, you have files named 'status-im.component.main-tabs' and 'status-im2.contexts.communities.actions.addresses-for-permissons.view'. It would make sense if they all follow one naming convention like 'status\\\\_im.\\\\*'.\\n\\n  2. In the first block of code, there seems to be unnecessary imports from 'status-im.utils.views', which has already been required via macros at the beginning. Remove the duplicate import statement.\\n\\n  3. Regarding the definition of 'tab':\\n     * Instead of using multiple keys such as ['view-id'] etc., consider destructuring map directly into local variables within the function body. This will improve readability by reducing repetition.\\n     * Use single quotes instead of double quotes when defining symbols.\\n     * Replace '#{symbol}' syntax with symbol itself where possible.\\n     * Change 'on-press' parameter type signature to accept functions rather than vectors since we don't need both 'view-id' and 'function' inside vector.\\n     * Move println call outside the conditional expression; otherwise, it may cause side effects that could lead to unexpected behavior.\\n     * Make sure to handle cases other than 'nil' values returned from get-in before trying to access properties.\\n\\n``` clojure\\n(defn- tab [[params] ; params = {:keys [view-id title icon-active icon-inactive selected-view-id on-press}]\\n          :on-press (#^((% on-press))) ]\\n  ... )\\n```\\n\\n4. When requiring libraries, try organizing them under logical groups according to their functionality. Also, ensure proper indentation while writing require statements.\\n\\n5. Avoid hard coding strings wherever possible - especially long ones. Utilize library features like i18n for handling translations.\\n\\n6. Ensure consistent spacing between keywords and colons throughout the entire document.\\n\\n7. Try avoiding deep nesting levels whenever possible. Break down complex structures into smaller components or helper functions.\\n\\n8. Be mindful about variable shadowing issues caused due to similar variable names having different scopes. Rename conflicting identifiers accordingly.\\n\\n9. Add comments explaining what each component does briefly so others understand its purpose\"\n        ],\n        \"semantic_type\": \"\",\n        \"description\": \"\"\n      }\n    }\n  ]\n}"
            }
          },
          "metadata": {},
          "execution_count": 5
        }
      ]
    },
    {
      "cell_type": "code",
      "source": [
        "df_final = df_1.copy()"
      ],
      "metadata": {
        "id": "gu8KFJTfMSyP"
      },
      "execution_count": null,
      "outputs": []
    },
    {
      "cell_type": "code",
      "source": [
        "print(df_final.shape)"
      ],
      "metadata": {
        "colab": {
          "base_uri": "https://localhost:8080/"
        },
        "id": "dNMeRqcTObXx",
        "outputId": "18223b97-fe1c-4e9e-c284-0257bb48d688"
      },
      "execution_count": null,
      "outputs": [
        {
          "output_type": "stream",
          "name": "stdout",
          "text": [
            "(5105, 7)\n"
          ]
        }
      ]
    },
    {
      "cell_type": "code",
      "source": [
        "print(df_final.columns)"
      ],
      "metadata": {
        "colab": {
          "base_uri": "https://localhost:8080/"
        },
        "id": "Wg-QG7bJO8mp",
        "outputId": "c07ef670-5cfe-4e8e-86f7-3218b86afcf4"
      },
      "execution_count": null,
      "outputs": [
        {
          "output_type": "stream",
          "name": "stdout",
          "text": [
            "Index(['pull_request_url', 'comment_id', 'diff_hunk', 'content',\n",
            "       'cleaned_diff_hunk', 'diff_lines', 'model_comment'],\n",
            "      dtype='object')\n"
          ]
        }
      ]
    },
    {
      "cell_type": "code",
      "source": [
        "df_final.loc[2650:, 'model_comment'] = df_2.loc[2650:, 'model_comment'].values"
      ],
      "metadata": {
        "id": "f-lYVA3wOf4l"
      },
      "execution_count": null,
      "outputs": []
    },
    {
      "cell_type": "code",
      "source": [
        "print(df_final.columns)"
      ],
      "metadata": {
        "colab": {
          "base_uri": "https://localhost:8080/"
        },
        "id": "cfXXlnhwD7UY",
        "outputId": "ff659326-ee64-4bc2-f4b8-138025a5243b"
      },
      "execution_count": null,
      "outputs": [
        {
          "output_type": "stream",
          "name": "stdout",
          "text": [
            "Index(['pull_request_url', 'comment_id', 'diff_hunk', 'content',\n",
            "       'cleaned_diff_hunk', 'diff_lines', 'model_comment'],\n",
            "      dtype='object')\n"
          ]
        }
      ]
    },
    {
      "cell_type": "code",
      "source": [
        "df_final.to_csv('/content/drive/MyDrive/rayanne-llm-code-review-clj/Dataset/output/rag_model_output_final.csv')"
      ],
      "metadata": {
        "id": "L3kPwwcFMj1E"
      },
      "execution_count": null,
      "outputs": []
    },
    {
      "cell_type": "markdown",
      "source": [
        "#Junção das colunas model_comment e cos_sim\n",
        "\n",
        "Junção das duas colunas de comentário e similaridade de ambas saídas do modelo mistral (default e rag) para facilitar a análise e plotagem de gráficos"
      ],
      "metadata": {
        "id": "3UlnNtG1QaB0"
      }
    },
    {
      "cell_type": "code",
      "source": [
        "DEFAULT_FILE_PATH = '/content/drive/MyDrive/rayanne-llm-code-review-clj/Dataset/output/similarity_default_model.csv'\n",
        "RAG_FILE_PATH = '/content/drive/MyDrive/rayanne-llm-code-review-clj/Dataset/output/similarity_rag_model.csv'"
      ],
      "metadata": {
        "id": "mQfO5iDfQySr"
      },
      "execution_count": null,
      "outputs": []
    },
    {
      "cell_type": "code",
      "source": [
        "df_default = pd.read_csv(DEFAULT_FILE_PATH)\n",
        "df_rag = pd.read_csv(RAG_FILE_PATH)"
      ],
      "metadata": {
        "id": "8QOF9JTadXA1"
      },
      "execution_count": null,
      "outputs": []
    },
    {
      "cell_type": "code",
      "source": [
        "df_final = df_default.copy()"
      ],
      "metadata": {
        "id": "aWeHtfGhdY_K"
      },
      "execution_count": null,
      "outputs": []
    },
    {
      "cell_type": "code",
      "source": [
        "print(df_final.shape)\n",
        "print(df_final.columns)"
      ],
      "metadata": {
        "colab": {
          "base_uri": "https://localhost:8080/"
        },
        "id": "lJQRfvVPdZQC",
        "outputId": "457f984b-9dba-4efd-83ba-f1993d1d7ac1"
      },
      "execution_count": null,
      "outputs": [
        {
          "output_type": "stream",
          "name": "stdout",
          "text": [
            "(5105, 8)\n",
            "Index(['pull_request_url', 'comment_id', 'diff_hunk', 'content',\n",
            "       'cleaned_diff_hunk', 'diff_lines', 'model_comment', 'cos_sim'],\n",
            "      dtype='object')\n"
          ]
        }
      ]
    },
    {
      "cell_type": "code",
      "source": [
        "df_final = df_final.rename(columns={'model_comment': 'default_model_comment'})\n",
        "df_final = df_final.rename(columns={'cos_sim':'default_cos_sim'})"
      ],
      "metadata": {
        "id": "2fEHgmOPdZd7"
      },
      "execution_count": null,
      "outputs": []
    },
    {
      "cell_type": "code",
      "source": [
        "print(df_final.shape)\n",
        "print(df_final.columns)"
      ],
      "metadata": {
        "colab": {
          "base_uri": "https://localhost:8080/"
        },
        "id": "N3N3C9MhdZnS",
        "outputId": "c435b15d-e9d1-499e-8c73-8691af8fca32"
      },
      "execution_count": null,
      "outputs": [
        {
          "output_type": "stream",
          "name": "stdout",
          "text": [
            "(5105, 8)\n",
            "Index(['pull_request_url', 'comment_id', 'diff_hunk', 'content',\n",
            "       'cleaned_diff_hunk', 'diff_lines', 'default_model_comment',\n",
            "       'default_cos_sim'],\n",
            "      dtype='object')\n"
          ]
        }
      ]
    },
    {
      "cell_type": "code",
      "source": [
        "df_final['rag_model_comment'] = df_rag['model_comment']\n",
        "df_final['rag_cos_sim'] = df_rag['cos_sim']"
      ],
      "metadata": {
        "id": "FmWbh2BFdlab"
      },
      "execution_count": null,
      "outputs": []
    },
    {
      "cell_type": "code",
      "source": [
        "print(df_final.shape)\n",
        "print(df_final.columns)"
      ],
      "metadata": {
        "colab": {
          "base_uri": "https://localhost:8080/"
        },
        "id": "ROK30pz6dln_",
        "outputId": "e80c620a-195a-45c9-ed69-eea174c767d5"
      },
      "execution_count": null,
      "outputs": [
        {
          "output_type": "stream",
          "name": "stdout",
          "text": [
            "(5105, 10)\n",
            "Index(['pull_request_url', 'comment_id', 'diff_hunk', 'content',\n",
            "       'cleaned_diff_hunk', 'diff_lines', 'default_model_comment',\n",
            "       'default_cos_sim', 'rag_model_comment', 'rag_cos_sim'],\n",
            "      dtype='object')\n"
          ]
        }
      ]
    },
    {
      "cell_type": "code",
      "source": [
        "df_final.to_csv('/content/drive/MyDrive/rayanne-llm-code-review-clj/Dataset/output/similarity_final.csv')"
      ],
      "metadata": {
        "id": "ttBafEHZdwMM"
      },
      "execution_count": null,
      "outputs": []
    }
  ]
}